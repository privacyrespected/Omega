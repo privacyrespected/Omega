{
 "cells": [
  {
   "cell_type": "code",
   "execution_count": 1,
   "id": "27839a21",
   "metadata": {},
   "outputs": [],
   "source": [
    "#!pip install yfinance\n",
    "#!pip install bs4\n",
    "#!pip install urllib3\n",
    "#!pip install plotly\n",
    "#!pip install nltk"
   ]
  },
  {
   "cell_type": "code",
   "execution_count": 2,
   "id": "cb8a0df4",
   "metadata": {},
   "outputs": [
    {
     "name": "stderr",
     "output_type": "stream",
     "text": [
      "[nltk_data] Downloading package vader_lexicon to\n",
      "[nltk_data]     C:\\Users\\Gabriel\\AppData\\Roaming\\nltk_data...\n",
      "[nltk_data]   Package vader_lexicon is already up-to-date!\n"
     ]
    }
   ],
   "source": [
    "# libraries for webscraping, parsing and getting stock data\n",
    "from urllib.request import urlopen, Request\n",
    "from bs4 import BeautifulSoup\n",
    "import yfinance as yf\n",
    "\n",
    "# for plotting and data manipulation\n",
    "import pandas as pd\n",
    "import matplotlib.pyplot as plt\n",
    "%matplotlib inline\n",
    "import plotly\n",
    "import plotly.express as px\n",
    "\n",
    "# NLTK VADER for sentiment analysis\n",
    "import nltk\n",
    "nltk.downloader.download('vader_lexicon')\n",
    "from nltk.sentiment.vader import SentimentIntensityAnalyzer"
   ]
  },
  {
   "cell_type": "markdown",
   "id": "ada1e3c7",
   "metadata": {},
   "source": [
    "# Tickers and Number of Shares in Portfolio\n",
    "\n",
    "List Down all Tickers in Portfolio and the Corresponding Number of Shares for Each of Them"
   ]
  },
  {
   "cell_type": "code",
   "execution_count": 3,
   "id": "47366dee",
   "metadata": {},
   "outputs": [],
   "source": [
    "tickers_dict = {'AMZN': 5, 'TSLA': 1, 'GOOG': 3, 'META': 3, 'KO': 10, 'PEP': 5,  # amazon, tesla, google, meta, coke, pepsi\n",
    "                'BA': 5, 'XOM': 5, 'CVX': 4, 'UNH': 1, 'JNJ': 3, 'JPM': 3, # boeing, exxon mobil, chevron, united health, johnson&johnson, jp morgan\n",
    "                'BAC': 5, 'C': 5, 'SPG': 10, 'AAPL': 6, 'MSFT': 5, 'WMT': 6, # bank of america, citigroup, simon property group, apple, microsoft, walmart\n",
    "                'LMT': 2, 'PFE': 10, 'MMM': 3, 'CRWD': 3, 'WBD': 20, 'DIS': 8, # lockheed martin, pfizer, 3M, crowdstrike, warner bros, disney\n",
    "                'AIG': 5, 'BRK-B': 4, 'DDOG': 3, 'SLB': 16, 'SONY': 5, 'PLD': 5, # american international group, berkshire hathaway, datadog, schlumberger, sony, prologis\n",
    "                'INT': 16, 'AMD': 5, 'ISRG': 3, 'INTC': 5} # world fuel services, advanced micro devices, intuitive surgical, intel"
   ]
  },
  {
   "cell_type": "code",
   "execution_count": 4,
   "id": "bfe06e27",
   "metadata": {},
   "outputs": [],
   "source": [
    "tickers = tickers_dict.keys()\n",
    "number_of_shares = tickers_dict.values()"
   ]
  },
  {
   "cell_type": "markdown",
   "id": "9d64d826",
   "metadata": {},
   "source": [
    "# Scrape the Date, Time and News Headlines Data"
   ]
  },
  {
   "cell_type": "code",
   "execution_count": 5,
   "id": "21d4f337",
   "metadata": {},
   "outputs": [
    {
     "name": "stdout",
     "output_type": "stream",
     "text": [
      "AMZN\n",
      "TSLA\n",
      "GOOG\n",
      "META\n",
      "KO\n",
      "PEP\n",
      "BA\n",
      "XOM\n",
      "CVX\n",
      "UNH\n",
      "JNJ\n",
      "JPM\n",
      "BAC\n",
      "C\n",
      "SPG\n",
      "AAPL\n",
      "MSFT\n",
      "WMT\n",
      "LMT\n",
      "PFE\n",
      "MMM\n",
      "CRWD\n",
      "WBD\n",
      "DIS\n",
      "AIG\n",
      "BRK-B\n",
      "DDOG\n",
      "SLB\n",
      "SONY\n",
      "PLD\n",
      "INT\n",
      "AMD\n",
      "ISRG\n",
      "INTC\n"
     ]
    }
   ],
   "source": [
    "# Scrape the Date, Time and News Headlines Data\n",
    "finwiz_url = 'https://finviz.com/quote.ashx?t='\n",
    "news_tables = {}\n",
    "\n",
    "for ticker in tickers:\n",
    "    print(ticker)\n",
    "    url = finwiz_url + ticker\n",
    "    req = Request(url=url,headers={'User-Agent': 'Mozilla/5.0 (Windows NT 6.1; WOW64; rv:20.0) Gecko/20100101 Firefox/20.0'}) \n",
    "    response = urlopen(req)    \n",
    "    # Read the contents of the file into 'html'\n",
    "    html = BeautifulSoup(response)\n",
    "    # Find 'news-table' in the Soup and load it into 'news_table'\n",
    "    news_table = html.find(id='news-table')\n",
    "    # Add the table to our dictionary\n",
    "    news_tables[ticker] = news_table"
   ]
  },
  {
   "cell_type": "markdown",
   "id": "0501a418",
   "metadata": {},
   "source": [
    "# Print the Data from news_table (optional)"
   ]
  },
  {
   "cell_type": "code",
   "execution_count": 6,
   "id": "fcf1f953",
   "metadata": {},
   "outputs": [
    {
     "name": "stdout",
     "output_type": "stream",
     "text": [
      "Why Jeff Bezos and other billionaires want NFL teams\n",
      "Feb-27-23 05:31PM\n",
      "Palantir joins growing list of tech companies announcing layoffs\n",
      "04:33PM\n",
      "37 Mistakes We Make When Shopping at Costco, Amazon, Target and Walmart\n",
      "12:00PM\n",
      "Microsoft Pushes AI-Powered Tools for Telecoms. Its Targeting Amazon.\n",
      "11:34AM\n"
     ]
    }
   ],
   "source": [
    "# Print the Data from news_table (optional)\n",
    "# Example: Read one single day of headlines for ‘AMZN’ \n",
    "amzn = news_tables['AMZN']\n",
    "# Get all the table rows tagged in HTML with <tr> into ‘amzn_tr’\n",
    "amzn_tr = amzn.findAll('tr')\n",
    "for i, table_row in enumerate(amzn_tr):\n",
    "     # Read the text of the element ‘a’ into ‘link_text’\n",
    "     a_text = table_row.a.text\n",
    "     # Read the text of the element ‘td’ into ‘data_text’\n",
    "     td_text = table_row.td.text\n",
    "     # Print the contents of ‘link_text’ and ‘data_text’ \n",
    "     print(a_text)\n",
    "     print(td_text)\n",
    "     # Exit after printing 4 rows of data\n",
    "     if i == 3:\n",
    "         break"
   ]
  },
  {
   "cell_type": "markdown",
   "id": "06954d40",
   "metadata": {},
   "source": [
    "# Parse the Date, Time and News Headlines into a Python List"
   ]
  },
  {
   "cell_type": "code",
   "execution_count": 7,
   "id": "74e60fd8",
   "metadata": {},
   "outputs": [
    {
     "data": {
      "text/plain": [
       "[['AMZN',\n",
       "  'Feb-27-23',\n",
       "  '05:31PM',\n",
       "  'Why Jeff Bezos and other billionaires want NFL teams'],\n",
       " ['AMZN',\n",
       "  'Feb-27-23',\n",
       "  '04:33PM',\n",
       "  'Palantir joins growing list of tech companies announcing layoffs'],\n",
       " ['AMZN',\n",
       "  'Feb-27-23',\n",
       "  '12:00PM',\n",
       "  '37 Mistakes We Make When Shopping at Costco, Amazon, Target and Walmart'],\n",
       " ['AMZN',\n",
       "  'Feb-27-23',\n",
       "  '11:34AM',\n",
       "  'Microsoft Pushes AI-Powered Tools for Telecoms. Its Targeting Amazon.'],\n",
       " ['AMZN',\n",
       "  'Feb-27-23',\n",
       "  '09:55AM',\n",
       "  'If You Invested $10,000 In Amazon Stock 10 Years Ago, This Is How Much You Would Have Today']]"
      ]
     },
     "execution_count": 7,
     "metadata": {},
     "output_type": "execute_result"
    }
   ],
   "source": [
    "# Parse the Date, Time and News Headlines into a Python List\n",
    "parsed_news = []\n",
    "# Iterate through the news\n",
    "for file_name, news_table in news_tables.items():\n",
    "    # Iterate through all tr tags in 'news_table'\n",
    "    for x in news_table.findAll('tr'):\n",
    "        # read the text from each tr tag into text\n",
    "        # get text from a only\n",
    "        text = x.a.get_text() \n",
    "        # splite text in the td tag into a list \n",
    "        date_scrape = x.td.text.split()\n",
    "        # if the length of 'date_scrape' is 1, load 'time' as the only element\n",
    "        if len(date_scrape) == 1:\n",
    "            time = date_scrape[0]\n",
    "            \n",
    "        # else load 'date' as the 1st element and 'time' as the second    \n",
    "        else:\n",
    "            date = date_scrape[0]\n",
    "            time = date_scrape[1]\n",
    "        # Extract the ticker from the file name, get the string up to the 1st '_'  \n",
    "        ticker = file_name.split('_')[0]\n",
    "        \n",
    "        # Append ticker, date, time and headline as a list to the 'parsed_news' list\n",
    "        parsed_news.append([ticker, date, time, text])\n",
    "        \n",
    "parsed_news[:5] # print first 5 rows of news"
   ]
  },
  {
   "cell_type": "markdown",
   "id": "80e05ba8",
   "metadata": {},
   "source": [
    "# Perform Sentiment Analysis with Vader"
   ]
  },
  {
   "cell_type": "code",
   "execution_count": 8,
   "id": "a0013d7e",
   "metadata": {},
   "outputs": [
    {
     "data": {
      "text/html": [
       "<div>\n",
       "<style scoped>\n",
       "    .dataframe tbody tr th:only-of-type {\n",
       "        vertical-align: middle;\n",
       "    }\n",
       "\n",
       "    .dataframe tbody tr th {\n",
       "        vertical-align: top;\n",
       "    }\n",
       "\n",
       "    .dataframe thead th {\n",
       "        text-align: right;\n",
       "    }\n",
       "</style>\n",
       "<table border=\"1\" class=\"dataframe\">\n",
       "  <thead>\n",
       "    <tr style=\"text-align: right;\">\n",
       "      <th></th>\n",
       "      <th>ticker</th>\n",
       "      <th>date</th>\n",
       "      <th>time</th>\n",
       "      <th>headline</th>\n",
       "      <th>neg</th>\n",
       "      <th>neu</th>\n",
       "      <th>pos</th>\n",
       "      <th>compound</th>\n",
       "    </tr>\n",
       "  </thead>\n",
       "  <tbody>\n",
       "    <tr>\n",
       "      <th>0</th>\n",
       "      <td>AMZN</td>\n",
       "      <td>2023-02-27</td>\n",
       "      <td>05:31PM</td>\n",
       "      <td>Why Jeff Bezos and other billionaires want NFL...</td>\n",
       "      <td>0.000</td>\n",
       "      <td>0.860</td>\n",
       "      <td>0.140</td>\n",
       "      <td>0.0772</td>\n",
       "    </tr>\n",
       "    <tr>\n",
       "      <th>1</th>\n",
       "      <td>AMZN</td>\n",
       "      <td>2023-02-27</td>\n",
       "      <td>04:33PM</td>\n",
       "      <td>Palantir joins growing list of tech companies ...</td>\n",
       "      <td>0.000</td>\n",
       "      <td>0.825</td>\n",
       "      <td>0.175</td>\n",
       "      <td>0.1779</td>\n",
       "    </tr>\n",
       "    <tr>\n",
       "      <th>2</th>\n",
       "      <td>AMZN</td>\n",
       "      <td>2023-02-27</td>\n",
       "      <td>12:00PM</td>\n",
       "      <td>37 Mistakes We Make When Shopping at Costco, A...</td>\n",
       "      <td>0.176</td>\n",
       "      <td>0.704</td>\n",
       "      <td>0.120</td>\n",
       "      <td>-0.2023</td>\n",
       "    </tr>\n",
       "    <tr>\n",
       "      <th>3</th>\n",
       "      <td>AMZN</td>\n",
       "      <td>2023-02-27</td>\n",
       "      <td>11:34AM</td>\n",
       "      <td>Microsoft Pushes AI-Powered Tools for Telecoms...</td>\n",
       "      <td>0.000</td>\n",
       "      <td>0.825</td>\n",
       "      <td>0.175</td>\n",
       "      <td>0.1779</td>\n",
       "    </tr>\n",
       "    <tr>\n",
       "      <th>4</th>\n",
       "      <td>AMZN</td>\n",
       "      <td>2023-02-27</td>\n",
       "      <td>09:55AM</td>\n",
       "      <td>If You Invested $10,000 In Amazon Stock 10 Yea...</td>\n",
       "      <td>0.000</td>\n",
       "      <td>0.909</td>\n",
       "      <td>0.091</td>\n",
       "      <td>0.1779</td>\n",
       "    </tr>\n",
       "  </tbody>\n",
       "</table>\n",
       "</div>"
      ],
      "text/plain": [
       "  ticker        date     time  \\\n",
       "0   AMZN  2023-02-27  05:31PM   \n",
       "1   AMZN  2023-02-27  04:33PM   \n",
       "2   AMZN  2023-02-27  12:00PM   \n",
       "3   AMZN  2023-02-27  11:34AM   \n",
       "4   AMZN  2023-02-27  09:55AM   \n",
       "\n",
       "                                            headline    neg    neu    pos  \\\n",
       "0  Why Jeff Bezos and other billionaires want NFL...  0.000  0.860  0.140   \n",
       "1  Palantir joins growing list of tech companies ...  0.000  0.825  0.175   \n",
       "2  37 Mistakes We Make When Shopping at Costco, A...  0.176  0.704  0.120   \n",
       "3  Microsoft Pushes AI-Powered Tools for Telecoms...  0.000  0.825  0.175   \n",
       "4  If You Invested $10,000 In Amazon Stock 10 Yea...  0.000  0.909  0.091   \n",
       "\n",
       "   compound  \n",
       "0    0.0772  \n",
       "1    0.1779  \n",
       "2   -0.2023  \n",
       "3    0.1779  \n",
       "4    0.1779  "
      ]
     },
     "execution_count": 8,
     "metadata": {},
     "output_type": "execute_result"
    }
   ],
   "source": [
    "# Perform Sentiment Analysis with Vader\n",
    "# Instantiate the sentiment intensity analyzer\n",
    "vader = SentimentIntensityAnalyzer()\n",
    "# Set column names\n",
    "columns = ['ticker', 'date', 'time', 'headline']\n",
    "# Convert the parsed_news list into a DataFrame called 'parsed_and_scored_news'\n",
    "parsed_and_scored_news = pd.DataFrame(parsed_news, columns=columns)\n",
    "\n",
    "# Iterate through the headlines and get the polarity scores using vader\n",
    "scores = parsed_and_scored_news['headline'].apply(vader.polarity_scores).tolist()\n",
    "# Convert the 'scores' list of dicts into a DataFrame\n",
    "scores_df = pd.DataFrame(scores)\n",
    "\n",
    "# Join the DataFrames of the news and the list of dicts\n",
    "parsed_and_scored_news = parsed_and_scored_news.join(scores_df, rsuffix='_right')\n",
    "# Convert the date column from string to datetime\n",
    "parsed_and_scored_news['date'] = pd.to_datetime(parsed_and_scored_news.date).dt.date\n",
    "parsed_and_scored_news.head()"
   ]
  },
  {
   "cell_type": "code",
   "execution_count": 9,
   "id": "55b69733",
   "metadata": {},
   "outputs": [
    {
     "data": {
      "text/html": [
       "<div>\n",
       "<style scoped>\n",
       "    .dataframe tbody tr th:only-of-type {\n",
       "        vertical-align: middle;\n",
       "    }\n",
       "\n",
       "    .dataframe tbody tr th {\n",
       "        vertical-align: top;\n",
       "    }\n",
       "\n",
       "    .dataframe thead th {\n",
       "        text-align: right;\n",
       "    }\n",
       "</style>\n",
       "<table border=\"1\" class=\"dataframe\">\n",
       "  <thead>\n",
       "    <tr style=\"text-align: right;\">\n",
       "      <th></th>\n",
       "      <th>ticker</th>\n",
       "      <th>date</th>\n",
       "      <th>time</th>\n",
       "      <th>headline</th>\n",
       "      <th>neg</th>\n",
       "      <th>neu</th>\n",
       "      <th>pos</th>\n",
       "      <th>compound</th>\n",
       "    </tr>\n",
       "  </thead>\n",
       "  <tbody>\n",
       "    <tr>\n",
       "      <th>0</th>\n",
       "      <td>AMZN</td>\n",
       "      <td>2023-02-27</td>\n",
       "      <td>05:31PM</td>\n",
       "      <td>Why Jeff Bezos and other billionaires want NFL...</td>\n",
       "      <td>0.000</td>\n",
       "      <td>0.860</td>\n",
       "      <td>0.140</td>\n",
       "      <td>0.0772</td>\n",
       "    </tr>\n",
       "    <tr>\n",
       "      <th>1</th>\n",
       "      <td>AMZN</td>\n",
       "      <td>2023-02-27</td>\n",
       "      <td>04:33PM</td>\n",
       "      <td>Palantir joins growing list of tech companies ...</td>\n",
       "      <td>0.000</td>\n",
       "      <td>0.825</td>\n",
       "      <td>0.175</td>\n",
       "      <td>0.1779</td>\n",
       "    </tr>\n",
       "    <tr>\n",
       "      <th>2</th>\n",
       "      <td>AMZN</td>\n",
       "      <td>2023-02-27</td>\n",
       "      <td>12:00PM</td>\n",
       "      <td>37 Mistakes We Make When Shopping at Costco, A...</td>\n",
       "      <td>0.176</td>\n",
       "      <td>0.704</td>\n",
       "      <td>0.120</td>\n",
       "      <td>-0.2023</td>\n",
       "    </tr>\n",
       "    <tr>\n",
       "      <th>3</th>\n",
       "      <td>AMZN</td>\n",
       "      <td>2023-02-27</td>\n",
       "      <td>11:34AM</td>\n",
       "      <td>Microsoft Pushes AI-Powered Tools for Telecoms...</td>\n",
       "      <td>0.000</td>\n",
       "      <td>0.825</td>\n",
       "      <td>0.175</td>\n",
       "      <td>0.1779</td>\n",
       "    </tr>\n",
       "    <tr>\n",
       "      <th>4</th>\n",
       "      <td>AMZN</td>\n",
       "      <td>2023-02-27</td>\n",
       "      <td>09:55AM</td>\n",
       "      <td>If You Invested $10,000 In Amazon Stock 10 Yea...</td>\n",
       "      <td>0.000</td>\n",
       "      <td>0.909</td>\n",
       "      <td>0.091</td>\n",
       "      <td>0.1779</td>\n",
       "    </tr>\n",
       "    <tr>\n",
       "      <th>...</th>\n",
       "      <td>...</td>\n",
       "      <td>...</td>\n",
       "      <td>...</td>\n",
       "      <td>...</td>\n",
       "      <td>...</td>\n",
       "      <td>...</td>\n",
       "      <td>...</td>\n",
       "      <td>...</td>\n",
       "    </tr>\n",
       "    <tr>\n",
       "      <th>3395</th>\n",
       "      <td>INTC</td>\n",
       "      <td>2023-02-10</td>\n",
       "      <td>06:06PM</td>\n",
       "      <td>Arm Holdings Is Destined to Go Public. It Coul...</td>\n",
       "      <td>0.000</td>\n",
       "      <td>0.870</td>\n",
       "      <td>0.130</td>\n",
       "      <td>0.2716</td>\n",
       "    </tr>\n",
       "    <tr>\n",
       "      <th>3396</th>\n",
       "      <td>INTC</td>\n",
       "      <td>2023-02-10</td>\n",
       "      <td>03:54PM</td>\n",
       "      <td>10 Least Innovative Companies That Are Still I...</td>\n",
       "      <td>0.211</td>\n",
       "      <td>0.789</td>\n",
       "      <td>0.000</td>\n",
       "      <td>-0.3412</td>\n",
       "    </tr>\n",
       "    <tr>\n",
       "      <th>3397</th>\n",
       "      <td>INTC</td>\n",
       "      <td>2023-02-10</td>\n",
       "      <td>12:38PM</td>\n",
       "      <td>Inside Intel: A Look at the Mega Chip Maker</td>\n",
       "      <td>0.000</td>\n",
       "      <td>1.000</td>\n",
       "      <td>0.000</td>\n",
       "      <td>0.0000</td>\n",
       "    </tr>\n",
       "    <tr>\n",
       "      <th>3398</th>\n",
       "      <td>INTC</td>\n",
       "      <td>2023-02-10</td>\n",
       "      <td>10:48AM</td>\n",
       "      <td>US STOCKS-Nasdaq edges lower, Lyft sinks on do...</td>\n",
       "      <td>0.216</td>\n",
       "      <td>0.784</td>\n",
       "      <td>0.000</td>\n",
       "      <td>-0.2960</td>\n",
       "    </tr>\n",
       "    <tr>\n",
       "      <th>3399</th>\n",
       "      <td>INTC</td>\n",
       "      <td>2023-02-10</td>\n",
       "      <td>06:48AM</td>\n",
       "      <td>Intel Explores Ramping Chip Investment In Viet...</td>\n",
       "      <td>0.000</td>\n",
       "      <td>1.000</td>\n",
       "      <td>0.000</td>\n",
       "      <td>0.0000</td>\n",
       "    </tr>\n",
       "  </tbody>\n",
       "</table>\n",
       "<p>3400 rows × 8 columns</p>\n",
       "</div>"
      ],
      "text/plain": [
       "     ticker        date     time  \\\n",
       "0      AMZN  2023-02-27  05:31PM   \n",
       "1      AMZN  2023-02-27  04:33PM   \n",
       "2      AMZN  2023-02-27  12:00PM   \n",
       "3      AMZN  2023-02-27  11:34AM   \n",
       "4      AMZN  2023-02-27  09:55AM   \n",
       "...     ...         ...      ...   \n",
       "3395   INTC  2023-02-10  06:06PM   \n",
       "3396   INTC  2023-02-10  03:54PM   \n",
       "3397   INTC  2023-02-10  12:38PM   \n",
       "3398   INTC  2023-02-10  10:48AM   \n",
       "3399   INTC  2023-02-10  06:48AM   \n",
       "\n",
       "                                               headline    neg    neu    pos  \\\n",
       "0     Why Jeff Bezos and other billionaires want NFL...  0.000  0.860  0.140   \n",
       "1     Palantir joins growing list of tech companies ...  0.000  0.825  0.175   \n",
       "2     37 Mistakes We Make When Shopping at Costco, A...  0.176  0.704  0.120   \n",
       "3     Microsoft Pushes AI-Powered Tools for Telecoms...  0.000  0.825  0.175   \n",
       "4     If You Invested $10,000 In Amazon Stock 10 Yea...  0.000  0.909  0.091   \n",
       "...                                                 ...    ...    ...    ...   \n",
       "3395  Arm Holdings Is Destined to Go Public. It Coul...  0.000  0.870  0.130   \n",
       "3396  10 Least Innovative Companies That Are Still I...  0.211  0.789  0.000   \n",
       "3397        Inside Intel: A Look at the Mega Chip Maker  0.000  1.000  0.000   \n",
       "3398  US STOCKS-Nasdaq edges lower, Lyft sinks on do...  0.216  0.784  0.000   \n",
       "3399  Intel Explores Ramping Chip Investment In Viet...  0.000  1.000  0.000   \n",
       "\n",
       "      compound  \n",
       "0       0.0772  \n",
       "1       0.1779  \n",
       "2      -0.2023  \n",
       "3       0.1779  \n",
       "4       0.1779  \n",
       "...        ...  \n",
       "3395    0.2716  \n",
       "3396   -0.3412  \n",
       "3397    0.0000  \n",
       "3398   -0.2960  \n",
       "3399    0.0000  \n",
       "\n",
       "[3400 rows x 8 columns]"
      ]
     },
     "execution_count": 9,
     "metadata": {},
     "output_type": "execute_result"
    }
   ],
   "source": [
    "parsed_and_scored_news"
   ]
  },
  {
   "cell_type": "markdown",
   "id": "cbd89b0f",
   "metadata": {},
   "source": [
    "# Calculate Mean Sentiment for Each Ticker"
   ]
  },
  {
   "cell_type": "code",
   "execution_count": 10,
   "id": "9d6fcc09",
   "metadata": {},
   "outputs": [
    {
     "data": {
      "text/html": [
       "<div>\n",
       "<style scoped>\n",
       "    .dataframe tbody tr th:only-of-type {\n",
       "        vertical-align: middle;\n",
       "    }\n",
       "\n",
       "    .dataframe tbody tr th {\n",
       "        vertical-align: top;\n",
       "    }\n",
       "\n",
       "    .dataframe thead th {\n",
       "        text-align: right;\n",
       "    }\n",
       "</style>\n",
       "<table border=\"1\" class=\"dataframe\">\n",
       "  <thead>\n",
       "    <tr style=\"text-align: right;\">\n",
       "      <th></th>\n",
       "      <th>neg</th>\n",
       "      <th>neu</th>\n",
       "      <th>pos</th>\n",
       "      <th>compound</th>\n",
       "    </tr>\n",
       "    <tr>\n",
       "      <th>ticker</th>\n",
       "      <th></th>\n",
       "      <th></th>\n",
       "      <th></th>\n",
       "      <th></th>\n",
       "    </tr>\n",
       "  </thead>\n",
       "  <tbody>\n",
       "    <tr>\n",
       "      <th>AAPL</th>\n",
       "      <td>0.05279</td>\n",
       "      <td>0.83471</td>\n",
       "      <td>0.11248</td>\n",
       "      <td>0.071140</td>\n",
       "    </tr>\n",
       "    <tr>\n",
       "      <th>AIG</th>\n",
       "      <td>0.06065</td>\n",
       "      <td>0.87135</td>\n",
       "      <td>0.06801</td>\n",
       "      <td>0.023673</td>\n",
       "    </tr>\n",
       "    <tr>\n",
       "      <th>AMD</th>\n",
       "      <td>0.03991</td>\n",
       "      <td>0.81652</td>\n",
       "      <td>0.14358</td>\n",
       "      <td>0.177748</td>\n",
       "    </tr>\n",
       "    <tr>\n",
       "      <th>AMZN</th>\n",
       "      <td>0.03688</td>\n",
       "      <td>0.77489</td>\n",
       "      <td>0.18824</td>\n",
       "      <td>0.215780</td>\n",
       "    </tr>\n",
       "    <tr>\n",
       "      <th>BA</th>\n",
       "      <td>0.05276</td>\n",
       "      <td>0.84917</td>\n",
       "      <td>0.09809</td>\n",
       "      <td>0.093787</td>\n",
       "    </tr>\n",
       "    <tr>\n",
       "      <th>BAC</th>\n",
       "      <td>0.04321</td>\n",
       "      <td>0.86881</td>\n",
       "      <td>0.08798</td>\n",
       "      <td>0.074852</td>\n",
       "    </tr>\n",
       "    <tr>\n",
       "      <th>BRK-B</th>\n",
       "      <td>0.04007</td>\n",
       "      <td>0.85613</td>\n",
       "      <td>0.10380</td>\n",
       "      <td>0.108367</td>\n",
       "    </tr>\n",
       "    <tr>\n",
       "      <th>C</th>\n",
       "      <td>0.05126</td>\n",
       "      <td>0.85874</td>\n",
       "      <td>0.09002</td>\n",
       "      <td>0.067364</td>\n",
       "    </tr>\n",
       "    <tr>\n",
       "      <th>CRWD</th>\n",
       "      <td>0.02046</td>\n",
       "      <td>0.82724</td>\n",
       "      <td>0.15230</td>\n",
       "      <td>0.228804</td>\n",
       "    </tr>\n",
       "    <tr>\n",
       "      <th>CVX</th>\n",
       "      <td>0.04363</td>\n",
       "      <td>0.83551</td>\n",
       "      <td>0.12083</td>\n",
       "      <td>0.102599</td>\n",
       "    </tr>\n",
       "    <tr>\n",
       "      <th>DDOG</th>\n",
       "      <td>0.03205</td>\n",
       "      <td>0.86457</td>\n",
       "      <td>0.10339</td>\n",
       "      <td>0.119949</td>\n",
       "    </tr>\n",
       "    <tr>\n",
       "      <th>DIS</th>\n",
       "      <td>0.05680</td>\n",
       "      <td>0.83778</td>\n",
       "      <td>0.10543</td>\n",
       "      <td>0.060640</td>\n",
       "    </tr>\n",
       "    <tr>\n",
       "      <th>GOOG</th>\n",
       "      <td>0.09772</td>\n",
       "      <td>0.80678</td>\n",
       "      <td>0.09549</td>\n",
       "      <td>0.000490</td>\n",
       "    </tr>\n",
       "    <tr>\n",
       "      <th>INT</th>\n",
       "      <td>0.01890</td>\n",
       "      <td>0.89401</td>\n",
       "      <td>0.08708</td>\n",
       "      <td>0.124610</td>\n",
       "    </tr>\n",
       "    <tr>\n",
       "      <th>INTC</th>\n",
       "      <td>0.08054</td>\n",
       "      <td>0.81524</td>\n",
       "      <td>0.10424</td>\n",
       "      <td>0.049534</td>\n",
       "    </tr>\n",
       "    <tr>\n",
       "      <th>ISRG</th>\n",
       "      <td>0.04947</td>\n",
       "      <td>0.83563</td>\n",
       "      <td>0.11493</td>\n",
       "      <td>0.121635</td>\n",
       "    </tr>\n",
       "    <tr>\n",
       "      <th>JNJ</th>\n",
       "      <td>0.04980</td>\n",
       "      <td>0.81987</td>\n",
       "      <td>0.13034</td>\n",
       "      <td>0.119391</td>\n",
       "    </tr>\n",
       "    <tr>\n",
       "      <th>JPM</th>\n",
       "      <td>0.05282</td>\n",
       "      <td>0.86220</td>\n",
       "      <td>0.08498</td>\n",
       "      <td>0.076179</td>\n",
       "    </tr>\n",
       "    <tr>\n",
       "      <th>KO</th>\n",
       "      <td>0.03944</td>\n",
       "      <td>0.83755</td>\n",
       "      <td>0.12301</td>\n",
       "      <td>0.142624</td>\n",
       "    </tr>\n",
       "    <tr>\n",
       "      <th>LMT</th>\n",
       "      <td>0.02950</td>\n",
       "      <td>0.81046</td>\n",
       "      <td>0.16007</td>\n",
       "      <td>0.203646</td>\n",
       "    </tr>\n",
       "    <tr>\n",
       "      <th>META</th>\n",
       "      <td>0.08680</td>\n",
       "      <td>0.81724</td>\n",
       "      <td>0.09593</td>\n",
       "      <td>0.026119</td>\n",
       "    </tr>\n",
       "    <tr>\n",
       "      <th>MMM</th>\n",
       "      <td>0.10545</td>\n",
       "      <td>0.80358</td>\n",
       "      <td>0.09098</td>\n",
       "      <td>-0.019005</td>\n",
       "    </tr>\n",
       "    <tr>\n",
       "      <th>MSFT</th>\n",
       "      <td>0.04603</td>\n",
       "      <td>0.83678</td>\n",
       "      <td>0.11720</td>\n",
       "      <td>0.110710</td>\n",
       "    </tr>\n",
       "    <tr>\n",
       "      <th>PEP</th>\n",
       "      <td>0.02987</td>\n",
       "      <td>0.85075</td>\n",
       "      <td>0.11939</td>\n",
       "      <td>0.146873</td>\n",
       "    </tr>\n",
       "    <tr>\n",
       "      <th>PFE</th>\n",
       "      <td>0.03437</td>\n",
       "      <td>0.87212</td>\n",
       "      <td>0.09350</td>\n",
       "      <td>0.100043</td>\n",
       "    </tr>\n",
       "    <tr>\n",
       "      <th>PLD</th>\n",
       "      <td>0.02594</td>\n",
       "      <td>0.83799</td>\n",
       "      <td>0.13609</td>\n",
       "      <td>0.171614</td>\n",
       "    </tr>\n",
       "    <tr>\n",
       "      <th>SLB</th>\n",
       "      <td>0.05122</td>\n",
       "      <td>0.81045</td>\n",
       "      <td>0.13838</td>\n",
       "      <td>0.173493</td>\n",
       "    </tr>\n",
       "    <tr>\n",
       "      <th>SONY</th>\n",
       "      <td>0.03535</td>\n",
       "      <td>0.86464</td>\n",
       "      <td>0.10001</td>\n",
       "      <td>0.098457</td>\n",
       "    </tr>\n",
       "    <tr>\n",
       "      <th>SPG</th>\n",
       "      <td>0.01438</td>\n",
       "      <td>0.86058</td>\n",
       "      <td>0.12504</td>\n",
       "      <td>0.180681</td>\n",
       "    </tr>\n",
       "    <tr>\n",
       "      <th>TSLA</th>\n",
       "      <td>0.06117</td>\n",
       "      <td>0.88401</td>\n",
       "      <td>0.05483</td>\n",
       "      <td>-0.012633</td>\n",
       "    </tr>\n",
       "    <tr>\n",
       "      <th>UNH</th>\n",
       "      <td>0.03306</td>\n",
       "      <td>0.82106</td>\n",
       "      <td>0.14587</td>\n",
       "      <td>0.190306</td>\n",
       "    </tr>\n",
       "    <tr>\n",
       "      <th>WBD</th>\n",
       "      <td>0.05712</td>\n",
       "      <td>0.88735</td>\n",
       "      <td>0.05553</td>\n",
       "      <td>0.004705</td>\n",
       "    </tr>\n",
       "    <tr>\n",
       "      <th>WMT</th>\n",
       "      <td>0.06757</td>\n",
       "      <td>0.83818</td>\n",
       "      <td>0.09426</td>\n",
       "      <td>0.049141</td>\n",
       "    </tr>\n",
       "    <tr>\n",
       "      <th>XOM</th>\n",
       "      <td>0.06143</td>\n",
       "      <td>0.79886</td>\n",
       "      <td>0.13969</td>\n",
       "      <td>0.116933</td>\n",
       "    </tr>\n",
       "  </tbody>\n",
       "</table>\n",
       "</div>"
      ],
      "text/plain": [
       "            neg      neu      pos  compound\n",
       "ticker                                     \n",
       "AAPL    0.05279  0.83471  0.11248  0.071140\n",
       "AIG     0.06065  0.87135  0.06801  0.023673\n",
       "AMD     0.03991  0.81652  0.14358  0.177748\n",
       "AMZN    0.03688  0.77489  0.18824  0.215780\n",
       "BA      0.05276  0.84917  0.09809  0.093787\n",
       "BAC     0.04321  0.86881  0.08798  0.074852\n",
       "BRK-B   0.04007  0.85613  0.10380  0.108367\n",
       "C       0.05126  0.85874  0.09002  0.067364\n",
       "CRWD    0.02046  0.82724  0.15230  0.228804\n",
       "CVX     0.04363  0.83551  0.12083  0.102599\n",
       "DDOG    0.03205  0.86457  0.10339  0.119949\n",
       "DIS     0.05680  0.83778  0.10543  0.060640\n",
       "GOOG    0.09772  0.80678  0.09549  0.000490\n",
       "INT     0.01890  0.89401  0.08708  0.124610\n",
       "INTC    0.08054  0.81524  0.10424  0.049534\n",
       "ISRG    0.04947  0.83563  0.11493  0.121635\n",
       "JNJ     0.04980  0.81987  0.13034  0.119391\n",
       "JPM     0.05282  0.86220  0.08498  0.076179\n",
       "KO      0.03944  0.83755  0.12301  0.142624\n",
       "LMT     0.02950  0.81046  0.16007  0.203646\n",
       "META    0.08680  0.81724  0.09593  0.026119\n",
       "MMM     0.10545  0.80358  0.09098 -0.019005\n",
       "MSFT    0.04603  0.83678  0.11720  0.110710\n",
       "PEP     0.02987  0.85075  0.11939  0.146873\n",
       "PFE     0.03437  0.87212  0.09350  0.100043\n",
       "PLD     0.02594  0.83799  0.13609  0.171614\n",
       "SLB     0.05122  0.81045  0.13838  0.173493\n",
       "SONY    0.03535  0.86464  0.10001  0.098457\n",
       "SPG     0.01438  0.86058  0.12504  0.180681\n",
       "TSLA    0.06117  0.88401  0.05483 -0.012633\n",
       "UNH     0.03306  0.82106  0.14587  0.190306\n",
       "WBD     0.05712  0.88735  0.05553  0.004705\n",
       "WMT     0.06757  0.83818  0.09426  0.049141\n",
       "XOM     0.06143  0.79886  0.13969  0.116933"
      ]
     },
     "execution_count": 10,
     "metadata": {},
     "output_type": "execute_result"
    }
   ],
   "source": [
    "# Group by each ticker and get the mean of all sentiment scores\n",
    "mean_scores = parsed_and_scored_news.groupby(['ticker']).mean()\n",
    "mean_scores"
   ]
  },
  {
   "cell_type": "markdown",
   "id": "d051f9ad",
   "metadata": {},
   "source": [
    "# Get Current Price, Sector and Industry of each Ticker"
   ]
  },
  {
   "cell_type": "code",
   "execution_count": 11,
   "id": "528a2aa8",
   "metadata": {},
   "outputs": [
    {
     "ename": "Exception",
     "evalue": "yfinance failed to decrypt Yahoo data response",
     "output_type": "error",
     "traceback": [
      "\u001b[1;31m---------------------------------------------------------------------------\u001b[0m",
      "\u001b[1;31mException\u001b[0m                                 Traceback (most recent call last)",
      "\u001b[1;32m~\\AppData\\Local\\Temp\\ipykernel_4452\\733884593.py\u001b[0m in \u001b[0;36m<module>\u001b[1;34m\u001b[0m\n\u001b[0;32m      2\u001b[0m \u001b[1;31m# as an example this is the information that the api returns for TSLA\u001b[0m\u001b[1;33m\u001b[0m\u001b[1;33m\u001b[0m\u001b[1;33m\u001b[0m\u001b[0m\n\u001b[0;32m      3\u001b[0m \u001b[0mtickerdata\u001b[0m \u001b[1;33m=\u001b[0m \u001b[0myf\u001b[0m\u001b[1;33m.\u001b[0m\u001b[0mTicker\u001b[0m\u001b[1;33m(\u001b[0m\u001b[1;34m'TSLA'\u001b[0m\u001b[1;33m)\u001b[0m\u001b[1;33m\u001b[0m\u001b[1;33m\u001b[0m\u001b[0m\n\u001b[1;32m----> 4\u001b[1;33m \u001b[0mtickerdata\u001b[0m\u001b[1;33m.\u001b[0m\u001b[0minfo\u001b[0m\u001b[1;33m\u001b[0m\u001b[1;33m\u001b[0m\u001b[0m\n\u001b[0m",
      "\u001b[1;32mc:\\Users\\Gabriel\\AppData\\Local\\Programs\\Python\\Python37\\lib\\site-packages\\yfinance\\ticker.py\u001b[0m in \u001b[0;36minfo\u001b[1;34m(self)\u001b[0m\n\u001b[0;32m    136\u001b[0m     \u001b[1;33m@\u001b[0m\u001b[0mproperty\u001b[0m\u001b[1;33m\u001b[0m\u001b[1;33m\u001b[0m\u001b[0m\n\u001b[0;32m    137\u001b[0m     \u001b[1;32mdef\u001b[0m \u001b[0minfo\u001b[0m\u001b[1;33m(\u001b[0m\u001b[0mself\u001b[0m\u001b[1;33m)\u001b[0m \u001b[1;33m->\u001b[0m \u001b[0mdict\u001b[0m\u001b[1;33m:\u001b[0m\u001b[1;33m\u001b[0m\u001b[1;33m\u001b[0m\u001b[0m\n\u001b[1;32m--> 138\u001b[1;33m         \u001b[1;32mreturn\u001b[0m \u001b[0mself\u001b[0m\u001b[1;33m.\u001b[0m\u001b[0mget_info\u001b[0m\u001b[1;33m(\u001b[0m\u001b[1;33m)\u001b[0m\u001b[1;33m\u001b[0m\u001b[1;33m\u001b[0m\u001b[0m\n\u001b[0m\u001b[0;32m    139\u001b[0m \u001b[1;33m\u001b[0m\u001b[0m\n\u001b[0;32m    140\u001b[0m     \u001b[1;33m@\u001b[0m\u001b[0mproperty\u001b[0m\u001b[1;33m\u001b[0m\u001b[1;33m\u001b[0m\u001b[0m\n",
      "\u001b[1;32mc:\\Users\\Gabriel\\AppData\\Local\\Programs\\Python\\Python37\\lib\\site-packages\\yfinance\\base.py\u001b[0m in \u001b[0;36mget_info\u001b[1;34m(self, proxy)\u001b[0m\n\u001b[0;32m   1473\u001b[0m     \u001b[1;32mdef\u001b[0m \u001b[0mget_info\u001b[0m\u001b[1;33m(\u001b[0m\u001b[0mself\u001b[0m\u001b[1;33m,\u001b[0m \u001b[0mproxy\u001b[0m\u001b[1;33m=\u001b[0m\u001b[1;32mNone\u001b[0m\u001b[1;33m)\u001b[0m \u001b[1;33m->\u001b[0m \u001b[0mdict\u001b[0m\u001b[1;33m:\u001b[0m\u001b[1;33m\u001b[0m\u001b[1;33m\u001b[0m\u001b[0m\n\u001b[0;32m   1474\u001b[0m         \u001b[0mself\u001b[0m\u001b[1;33m.\u001b[0m\u001b[0m_quote\u001b[0m\u001b[1;33m.\u001b[0m\u001b[0mproxy\u001b[0m \u001b[1;33m=\u001b[0m \u001b[0mproxy\u001b[0m\u001b[1;33m\u001b[0m\u001b[1;33m\u001b[0m\u001b[0m\n\u001b[1;32m-> 1475\u001b[1;33m         \u001b[0mdata\u001b[0m \u001b[1;33m=\u001b[0m \u001b[0mself\u001b[0m\u001b[1;33m.\u001b[0m\u001b[0m_quote\u001b[0m\u001b[1;33m.\u001b[0m\u001b[0minfo\u001b[0m\u001b[1;33m\u001b[0m\u001b[1;33m\u001b[0m\u001b[0m\n\u001b[0m\u001b[0;32m   1476\u001b[0m         \u001b[1;32mreturn\u001b[0m \u001b[0mdata\u001b[0m\u001b[1;33m\u001b[0m\u001b[1;33m\u001b[0m\u001b[0m\n\u001b[0;32m   1477\u001b[0m \u001b[1;33m\u001b[0m\u001b[0m\n",
      "\u001b[1;32mc:\\Users\\Gabriel\\AppData\\Local\\Programs\\Python\\Python37\\lib\\site-packages\\yfinance\\scrapers\\quote.py\u001b[0m in \u001b[0;36minfo\u001b[1;34m(self)\u001b[0m\n\u001b[0;32m     93\u001b[0m     \u001b[1;32mdef\u001b[0m \u001b[0minfo\u001b[0m\u001b[1;33m(\u001b[0m\u001b[0mself\u001b[0m\u001b[1;33m)\u001b[0m \u001b[1;33m->\u001b[0m \u001b[0mdict\u001b[0m\u001b[1;33m:\u001b[0m\u001b[1;33m\u001b[0m\u001b[1;33m\u001b[0m\u001b[0m\n\u001b[0;32m     94\u001b[0m         \u001b[1;32mif\u001b[0m \u001b[0mself\u001b[0m\u001b[1;33m.\u001b[0m\u001b[0m_info\u001b[0m \u001b[1;32mis\u001b[0m \u001b[1;32mNone\u001b[0m\u001b[1;33m:\u001b[0m\u001b[1;33m\u001b[0m\u001b[1;33m\u001b[0m\u001b[0m\n\u001b[1;32m---> 95\u001b[1;33m             \u001b[0mself\u001b[0m\u001b[1;33m.\u001b[0m\u001b[0m_scrape\u001b[0m\u001b[1;33m(\u001b[0m\u001b[0mself\u001b[0m\u001b[1;33m.\u001b[0m\u001b[0mproxy\u001b[0m\u001b[1;33m)\u001b[0m\u001b[1;33m\u001b[0m\u001b[1;33m\u001b[0m\u001b[0m\n\u001b[0m\u001b[0;32m     96\u001b[0m             \u001b[0mself\u001b[0m\u001b[1;33m.\u001b[0m\u001b[0m_scrape_complementary\u001b[0m\u001b[1;33m(\u001b[0m\u001b[0mself\u001b[0m\u001b[1;33m.\u001b[0m\u001b[0mproxy\u001b[0m\u001b[1;33m)\u001b[0m\u001b[1;33m\u001b[0m\u001b[1;33m\u001b[0m\u001b[0m\n\u001b[0;32m     97\u001b[0m \u001b[1;33m\u001b[0m\u001b[0m\n",
      "\u001b[1;32mc:\\Users\\Gabriel\\AppData\\Local\\Programs\\Python\\Python37\\lib\\site-packages\\yfinance\\scrapers\\quote.py\u001b[0m in \u001b[0;36m_scrape\u001b[1;34m(self, proxy)\u001b[0m\n\u001b[0;32m    122\u001b[0m \u001b[1;33m\u001b[0m\u001b[0m\n\u001b[0;32m    123\u001b[0m         \u001b[1;31m# get info and sustainability\u001b[0m\u001b[1;33m\u001b[0m\u001b[1;33m\u001b[0m\u001b[1;33m\u001b[0m\u001b[0m\n\u001b[1;32m--> 124\u001b[1;33m         \u001b[0mjson_data\u001b[0m \u001b[1;33m=\u001b[0m \u001b[0mself\u001b[0m\u001b[1;33m.\u001b[0m\u001b[0m_data\u001b[0m\u001b[1;33m.\u001b[0m\u001b[0mget_json_data_stores\u001b[0m\u001b[1;33m(\u001b[0m\u001b[0mproxy\u001b[0m\u001b[1;33m=\u001b[0m\u001b[0mproxy\u001b[0m\u001b[1;33m)\u001b[0m\u001b[1;33m\u001b[0m\u001b[1;33m\u001b[0m\u001b[0m\n\u001b[0m\u001b[0;32m    125\u001b[0m         \u001b[1;32mtry\u001b[0m\u001b[1;33m:\u001b[0m\u001b[1;33m\u001b[0m\u001b[1;33m\u001b[0m\u001b[0m\n\u001b[0;32m    126\u001b[0m             \u001b[0mquote_summary_store\u001b[0m \u001b[1;33m=\u001b[0m \u001b[0mjson_data\u001b[0m\u001b[1;33m[\u001b[0m\u001b[1;34m'QuoteSummaryStore'\u001b[0m\u001b[1;33m]\u001b[0m\u001b[1;33m\u001b[0m\u001b[1;33m\u001b[0m\u001b[0m\n",
      "\u001b[1;32mc:\\Users\\Gabriel\\AppData\\Local\\Programs\\Python\\Python37\\lib\\site-packages\\yfinance\\data.py\u001b[0m in \u001b[0;36mwrapped\u001b[1;34m(*args, **kwargs)\u001b[0m\n\u001b[0;32m     39\u001b[0m         \u001b[0margs\u001b[0m \u001b[1;33m=\u001b[0m \u001b[0mtuple\u001b[0m\u001b[1;33m(\u001b[0m\u001b[1;33m[\u001b[0m\u001b[0mtuple\u001b[0m\u001b[1;33m(\u001b[0m\u001b[0marg\u001b[0m\u001b[1;33m)\u001b[0m \u001b[1;32mif\u001b[0m \u001b[0misinstance\u001b[0m\u001b[1;33m(\u001b[0m\u001b[0marg\u001b[0m\u001b[1;33m,\u001b[0m \u001b[0mlist\u001b[0m\u001b[1;33m)\u001b[0m \u001b[1;32melse\u001b[0m \u001b[0marg\u001b[0m \u001b[1;32mfor\u001b[0m \u001b[0marg\u001b[0m \u001b[1;32min\u001b[0m \u001b[0margs\u001b[0m\u001b[1;33m]\u001b[0m\u001b[1;33m)\u001b[0m\u001b[1;33m\u001b[0m\u001b[1;33m\u001b[0m\u001b[0m\n\u001b[0;32m     40\u001b[0m         \u001b[0mkwargs\u001b[0m \u001b[1;33m=\u001b[0m \u001b[1;33m{\u001b[0m\u001b[0mk\u001b[0m\u001b[1;33m:\u001b[0m \u001b[0mtuple\u001b[0m\u001b[1;33m(\u001b[0m\u001b[0mv\u001b[0m\u001b[1;33m)\u001b[0m \u001b[1;32mif\u001b[0m \u001b[0misinstance\u001b[0m\u001b[1;33m(\u001b[0m\u001b[0mv\u001b[0m\u001b[1;33m,\u001b[0m \u001b[0mlist\u001b[0m\u001b[1;33m)\u001b[0m \u001b[1;32melse\u001b[0m \u001b[0mv\u001b[0m \u001b[1;32mfor\u001b[0m \u001b[0mk\u001b[0m\u001b[1;33m,\u001b[0m \u001b[0mv\u001b[0m \u001b[1;32min\u001b[0m \u001b[0mkwargs\u001b[0m\u001b[1;33m.\u001b[0m\u001b[0mitems\u001b[0m\u001b[1;33m(\u001b[0m\u001b[1;33m)\u001b[0m\u001b[1;33m}\u001b[0m\u001b[1;33m\u001b[0m\u001b[1;33m\u001b[0m\u001b[0m\n\u001b[1;32m---> 41\u001b[1;33m         \u001b[1;32mreturn\u001b[0m \u001b[0mfunc\u001b[0m\u001b[1;33m(\u001b[0m\u001b[1;33m*\u001b[0m\u001b[0margs\u001b[0m\u001b[1;33m,\u001b[0m \u001b[1;33m**\u001b[0m\u001b[0mkwargs\u001b[0m\u001b[1;33m)\u001b[0m\u001b[1;33m\u001b[0m\u001b[1;33m\u001b[0m\u001b[0m\n\u001b[0m\u001b[0;32m     42\u001b[0m \u001b[1;33m\u001b[0m\u001b[0m\n\u001b[0;32m     43\u001b[0m     \u001b[1;31m# copy over the lru_cache extra methods to this wrapper to be able to access them\u001b[0m\u001b[1;33m\u001b[0m\u001b[1;33m\u001b[0m\u001b[1;33m\u001b[0m\u001b[0m\n",
      "\u001b[1;32mc:\\Users\\Gabriel\\AppData\\Local\\Programs\\Python\\Python37\\lib\\site-packages\\yfinance\\data.py\u001b[0m in \u001b[0;36mget_json_data_stores\u001b[1;34m(self, sub_page, proxy)\u001b[0m\n\u001b[0;32m    309\u001b[0m \u001b[1;33m\u001b[0m\u001b[0m\n\u001b[0;32m    310\u001b[0m         \u001b[1;31m# Decrypt!\u001b[0m\u001b[1;33m\u001b[0m\u001b[1;33m\u001b[0m\u001b[1;33m\u001b[0m\u001b[0m\n\u001b[1;32m--> 311\u001b[1;33m         \u001b[0mstores\u001b[0m \u001b[1;33m=\u001b[0m \u001b[0mdecrypt_cryptojs_aes_stores\u001b[0m\u001b[1;33m(\u001b[0m\u001b[0mdata\u001b[0m\u001b[1;33m,\u001b[0m \u001b[0mkeys\u001b[0m\u001b[1;33m)\u001b[0m\u001b[1;33m\u001b[0m\u001b[1;33m\u001b[0m\u001b[0m\n\u001b[0m\u001b[0;32m    312\u001b[0m         \u001b[1;32mif\u001b[0m \u001b[0mstores\u001b[0m \u001b[1;32mis\u001b[0m \u001b[1;32mNone\u001b[0m\u001b[1;33m:\u001b[0m\u001b[1;33m\u001b[0m\u001b[1;33m\u001b[0m\u001b[0m\n\u001b[0;32m    313\u001b[0m             \u001b[1;31m# Maybe Yahoo returned old format, not encrypted\u001b[0m\u001b[1;33m\u001b[0m\u001b[1;33m\u001b[0m\u001b[1;33m\u001b[0m\u001b[0m\n",
      "\u001b[1;32mc:\\Users\\Gabriel\\AppData\\Local\\Programs\\Python\\Python37\\lib\\site-packages\\yfinance\\data.py\u001b[0m in \u001b[0;36mdecrypt_cryptojs_aes_stores\u001b[1;34m(data, keys)\u001b[0m\n\u001b[0;32m    160\u001b[0m                 \u001b[1;32mpass\u001b[0m\u001b[1;33m\u001b[0m\u001b[1;33m\u001b[0m\u001b[0m\n\u001b[0;32m    161\u001b[0m         \u001b[1;32mif\u001b[0m \u001b[1;32mnot\u001b[0m \u001b[0msuccess\u001b[0m\u001b[1;33m:\u001b[0m\u001b[1;33m\u001b[0m\u001b[1;33m\u001b[0m\u001b[0m\n\u001b[1;32m--> 162\u001b[1;33m             \u001b[1;32mraise\u001b[0m \u001b[0mException\u001b[0m\u001b[1;33m(\u001b[0m\u001b[1;34m\"yfinance failed to decrypt Yahoo data response\"\u001b[0m\u001b[1;33m)\u001b[0m\u001b[1;33m\u001b[0m\u001b[1;33m\u001b[0m\u001b[0m\n\u001b[0m\u001b[0;32m    163\u001b[0m \u001b[1;33m\u001b[0m\u001b[0m\n\u001b[0;32m    164\u001b[0m     \u001b[0mdecoded_stores\u001b[0m \u001b[1;33m=\u001b[0m \u001b[0mjson\u001b[0m\u001b[1;33m.\u001b[0m\u001b[0mloads\u001b[0m\u001b[1;33m(\u001b[0m\u001b[0mplaintext\u001b[0m\u001b[1;33m)\u001b[0m\u001b[1;33m\u001b[0m\u001b[1;33m\u001b[0m\u001b[0m\n",
      "\u001b[1;31mException\u001b[0m: yfinance failed to decrypt Yahoo data response"
     ]
    }
   ],
   "source": [
    "# get the price, sector and industry of each ticker using the yahoo finance api\n",
    "# as an example this is the information that the api returns for TSLA\n",
    "tickerdata = yf.Ticker('TSLA')\n",
    "tickerdata.info"
   ]
  },
  {
   "cell_type": "code",
   "execution_count": null,
   "id": "f8db26d4",
   "metadata": {},
   "outputs": [
    {
     "name": "stdout",
     "output_type": "stream",
     "text": [
      "AMZN\n"
     ]
    },
    {
     "ename": "Exception",
     "evalue": "yfinance failed to decrypt Yahoo data response",
     "output_type": "error",
     "traceback": [
      "\u001b[1;31m---------------------------------------------------------------------------\u001b[0m",
      "\u001b[1;31mException\u001b[0m                                 Traceback (most recent call last)",
      "\u001b[1;32m~\\AppData\\Local\\Temp\\ipykernel_13700\\4090903785.py\u001b[0m in \u001b[0;36m<module>\u001b[1;34m\u001b[0m\n\u001b[0;32m      5\u001b[0m     \u001b[0mprint\u001b[0m\u001b[1;33m(\u001b[0m\u001b[0mticker\u001b[0m\u001b[1;33m)\u001b[0m\u001b[1;33m\u001b[0m\u001b[1;33m\u001b[0m\u001b[0m\n\u001b[0;32m      6\u001b[0m     \u001b[0mtickerdata\u001b[0m \u001b[1;33m=\u001b[0m \u001b[0myf\u001b[0m\u001b[1;33m.\u001b[0m\u001b[0mTicker\u001b[0m\u001b[1;33m(\u001b[0m\u001b[0mticker\u001b[0m\u001b[1;33m)\u001b[0m\u001b[1;33m\u001b[0m\u001b[1;33m\u001b[0m\u001b[0m\n\u001b[1;32m----> 7\u001b[1;33m     \u001b[0mprices\u001b[0m\u001b[1;33m.\u001b[0m\u001b[0mappend\u001b[0m\u001b[1;33m(\u001b[0m\u001b[0mtickerdata\u001b[0m\u001b[1;33m.\u001b[0m\u001b[0minfo\u001b[0m\u001b[1;33m[\u001b[0m\u001b[1;34m'regularMarketPrice'\u001b[0m\u001b[1;33m]\u001b[0m\u001b[1;33m)\u001b[0m\u001b[1;33m\u001b[0m\u001b[1;33m\u001b[0m\u001b[0m\n\u001b[0m\u001b[0;32m      8\u001b[0m     \u001b[0msectors\u001b[0m\u001b[1;33m.\u001b[0m\u001b[0mappend\u001b[0m\u001b[1;33m(\u001b[0m\u001b[0mtickerdata\u001b[0m\u001b[1;33m.\u001b[0m\u001b[0minfo\u001b[0m\u001b[1;33m[\u001b[0m\u001b[1;34m'sector'\u001b[0m\u001b[1;33m]\u001b[0m\u001b[1;33m)\u001b[0m\u001b[1;33m\u001b[0m\u001b[1;33m\u001b[0m\u001b[0m\n\u001b[0;32m      9\u001b[0m     \u001b[0mindustries\u001b[0m\u001b[1;33m.\u001b[0m\u001b[0mappend\u001b[0m\u001b[1;33m(\u001b[0m\u001b[0mtickerdata\u001b[0m\u001b[1;33m.\u001b[0m\u001b[0minfo\u001b[0m\u001b[1;33m[\u001b[0m\u001b[1;34m'industry'\u001b[0m\u001b[1;33m]\u001b[0m\u001b[1;33m)\u001b[0m\u001b[1;33m\u001b[0m\u001b[1;33m\u001b[0m\u001b[0m\n",
      "\u001b[1;32mc:\\Users\\Gabriel\\AppData\\Local\\Programs\\Python\\Python37\\lib\\site-packages\\yfinance\\ticker.py\u001b[0m in \u001b[0;36minfo\u001b[1;34m(self)\u001b[0m\n\u001b[0;32m    136\u001b[0m     \u001b[1;33m@\u001b[0m\u001b[0mproperty\u001b[0m\u001b[1;33m\u001b[0m\u001b[1;33m\u001b[0m\u001b[0m\n\u001b[0;32m    137\u001b[0m     \u001b[1;32mdef\u001b[0m \u001b[0minfo\u001b[0m\u001b[1;33m(\u001b[0m\u001b[0mself\u001b[0m\u001b[1;33m)\u001b[0m \u001b[1;33m->\u001b[0m \u001b[0mdict\u001b[0m\u001b[1;33m:\u001b[0m\u001b[1;33m\u001b[0m\u001b[1;33m\u001b[0m\u001b[0m\n\u001b[1;32m--> 138\u001b[1;33m         \u001b[1;32mreturn\u001b[0m \u001b[0mself\u001b[0m\u001b[1;33m.\u001b[0m\u001b[0mget_info\u001b[0m\u001b[1;33m(\u001b[0m\u001b[1;33m)\u001b[0m\u001b[1;33m\u001b[0m\u001b[1;33m\u001b[0m\u001b[0m\n\u001b[0m\u001b[0;32m    139\u001b[0m \u001b[1;33m\u001b[0m\u001b[0m\n\u001b[0;32m    140\u001b[0m     \u001b[1;33m@\u001b[0m\u001b[0mproperty\u001b[0m\u001b[1;33m\u001b[0m\u001b[1;33m\u001b[0m\u001b[0m\n",
      "\u001b[1;32mc:\\Users\\Gabriel\\AppData\\Local\\Programs\\Python\\Python37\\lib\\site-packages\\yfinance\\base.py\u001b[0m in \u001b[0;36mget_info\u001b[1;34m(self, proxy)\u001b[0m\n\u001b[0;32m   1473\u001b[0m     \u001b[1;32mdef\u001b[0m \u001b[0mget_info\u001b[0m\u001b[1;33m(\u001b[0m\u001b[0mself\u001b[0m\u001b[1;33m,\u001b[0m \u001b[0mproxy\u001b[0m\u001b[1;33m=\u001b[0m\u001b[1;32mNone\u001b[0m\u001b[1;33m)\u001b[0m \u001b[1;33m->\u001b[0m \u001b[0mdict\u001b[0m\u001b[1;33m:\u001b[0m\u001b[1;33m\u001b[0m\u001b[1;33m\u001b[0m\u001b[0m\n\u001b[0;32m   1474\u001b[0m         \u001b[0mself\u001b[0m\u001b[1;33m.\u001b[0m\u001b[0m_quote\u001b[0m\u001b[1;33m.\u001b[0m\u001b[0mproxy\u001b[0m \u001b[1;33m=\u001b[0m \u001b[0mproxy\u001b[0m\u001b[1;33m\u001b[0m\u001b[1;33m\u001b[0m\u001b[0m\n\u001b[1;32m-> 1475\u001b[1;33m         \u001b[0mdata\u001b[0m \u001b[1;33m=\u001b[0m \u001b[0mself\u001b[0m\u001b[1;33m.\u001b[0m\u001b[0m_quote\u001b[0m\u001b[1;33m.\u001b[0m\u001b[0minfo\u001b[0m\u001b[1;33m\u001b[0m\u001b[1;33m\u001b[0m\u001b[0m\n\u001b[0m\u001b[0;32m   1476\u001b[0m         \u001b[1;32mreturn\u001b[0m \u001b[0mdata\u001b[0m\u001b[1;33m\u001b[0m\u001b[1;33m\u001b[0m\u001b[0m\n\u001b[0;32m   1477\u001b[0m \u001b[1;33m\u001b[0m\u001b[0m\n",
      "\u001b[1;32mc:\\Users\\Gabriel\\AppData\\Local\\Programs\\Python\\Python37\\lib\\site-packages\\yfinance\\scrapers\\quote.py\u001b[0m in \u001b[0;36minfo\u001b[1;34m(self)\u001b[0m\n\u001b[0;32m     93\u001b[0m     \u001b[1;32mdef\u001b[0m \u001b[0minfo\u001b[0m\u001b[1;33m(\u001b[0m\u001b[0mself\u001b[0m\u001b[1;33m)\u001b[0m \u001b[1;33m->\u001b[0m \u001b[0mdict\u001b[0m\u001b[1;33m:\u001b[0m\u001b[1;33m\u001b[0m\u001b[1;33m\u001b[0m\u001b[0m\n\u001b[0;32m     94\u001b[0m         \u001b[1;32mif\u001b[0m \u001b[0mself\u001b[0m\u001b[1;33m.\u001b[0m\u001b[0m_info\u001b[0m \u001b[1;32mis\u001b[0m \u001b[1;32mNone\u001b[0m\u001b[1;33m:\u001b[0m\u001b[1;33m\u001b[0m\u001b[1;33m\u001b[0m\u001b[0m\n\u001b[1;32m---> 95\u001b[1;33m             \u001b[0mself\u001b[0m\u001b[1;33m.\u001b[0m\u001b[0m_scrape\u001b[0m\u001b[1;33m(\u001b[0m\u001b[0mself\u001b[0m\u001b[1;33m.\u001b[0m\u001b[0mproxy\u001b[0m\u001b[1;33m)\u001b[0m\u001b[1;33m\u001b[0m\u001b[1;33m\u001b[0m\u001b[0m\n\u001b[0m\u001b[0;32m     96\u001b[0m             \u001b[0mself\u001b[0m\u001b[1;33m.\u001b[0m\u001b[0m_scrape_complementary\u001b[0m\u001b[1;33m(\u001b[0m\u001b[0mself\u001b[0m\u001b[1;33m.\u001b[0m\u001b[0mproxy\u001b[0m\u001b[1;33m)\u001b[0m\u001b[1;33m\u001b[0m\u001b[1;33m\u001b[0m\u001b[0m\n\u001b[0;32m     97\u001b[0m \u001b[1;33m\u001b[0m\u001b[0m\n",
      "\u001b[1;32mc:\\Users\\Gabriel\\AppData\\Local\\Programs\\Python\\Python37\\lib\\site-packages\\yfinance\\scrapers\\quote.py\u001b[0m in \u001b[0;36m_scrape\u001b[1;34m(self, proxy)\u001b[0m\n\u001b[0;32m    122\u001b[0m \u001b[1;33m\u001b[0m\u001b[0m\n\u001b[0;32m    123\u001b[0m         \u001b[1;31m# get info and sustainability\u001b[0m\u001b[1;33m\u001b[0m\u001b[1;33m\u001b[0m\u001b[1;33m\u001b[0m\u001b[0m\n\u001b[1;32m--> 124\u001b[1;33m         \u001b[0mjson_data\u001b[0m \u001b[1;33m=\u001b[0m \u001b[0mself\u001b[0m\u001b[1;33m.\u001b[0m\u001b[0m_data\u001b[0m\u001b[1;33m.\u001b[0m\u001b[0mget_json_data_stores\u001b[0m\u001b[1;33m(\u001b[0m\u001b[0mproxy\u001b[0m\u001b[1;33m=\u001b[0m\u001b[0mproxy\u001b[0m\u001b[1;33m)\u001b[0m\u001b[1;33m\u001b[0m\u001b[1;33m\u001b[0m\u001b[0m\n\u001b[0m\u001b[0;32m    125\u001b[0m         \u001b[1;32mtry\u001b[0m\u001b[1;33m:\u001b[0m\u001b[1;33m\u001b[0m\u001b[1;33m\u001b[0m\u001b[0m\n\u001b[0;32m    126\u001b[0m             \u001b[0mquote_summary_store\u001b[0m \u001b[1;33m=\u001b[0m \u001b[0mjson_data\u001b[0m\u001b[1;33m[\u001b[0m\u001b[1;34m'QuoteSummaryStore'\u001b[0m\u001b[1;33m]\u001b[0m\u001b[1;33m\u001b[0m\u001b[1;33m\u001b[0m\u001b[0m\n",
      "\u001b[1;32mc:\\Users\\Gabriel\\AppData\\Local\\Programs\\Python\\Python37\\lib\\site-packages\\yfinance\\data.py\u001b[0m in \u001b[0;36mwrapped\u001b[1;34m(*args, **kwargs)\u001b[0m\n\u001b[0;32m     39\u001b[0m         \u001b[0margs\u001b[0m \u001b[1;33m=\u001b[0m \u001b[0mtuple\u001b[0m\u001b[1;33m(\u001b[0m\u001b[1;33m[\u001b[0m\u001b[0mtuple\u001b[0m\u001b[1;33m(\u001b[0m\u001b[0marg\u001b[0m\u001b[1;33m)\u001b[0m \u001b[1;32mif\u001b[0m \u001b[0misinstance\u001b[0m\u001b[1;33m(\u001b[0m\u001b[0marg\u001b[0m\u001b[1;33m,\u001b[0m \u001b[0mlist\u001b[0m\u001b[1;33m)\u001b[0m \u001b[1;32melse\u001b[0m \u001b[0marg\u001b[0m \u001b[1;32mfor\u001b[0m \u001b[0marg\u001b[0m \u001b[1;32min\u001b[0m \u001b[0margs\u001b[0m\u001b[1;33m]\u001b[0m\u001b[1;33m)\u001b[0m\u001b[1;33m\u001b[0m\u001b[1;33m\u001b[0m\u001b[0m\n\u001b[0;32m     40\u001b[0m         \u001b[0mkwargs\u001b[0m \u001b[1;33m=\u001b[0m \u001b[1;33m{\u001b[0m\u001b[0mk\u001b[0m\u001b[1;33m:\u001b[0m \u001b[0mtuple\u001b[0m\u001b[1;33m(\u001b[0m\u001b[0mv\u001b[0m\u001b[1;33m)\u001b[0m \u001b[1;32mif\u001b[0m \u001b[0misinstance\u001b[0m\u001b[1;33m(\u001b[0m\u001b[0mv\u001b[0m\u001b[1;33m,\u001b[0m \u001b[0mlist\u001b[0m\u001b[1;33m)\u001b[0m \u001b[1;32melse\u001b[0m \u001b[0mv\u001b[0m \u001b[1;32mfor\u001b[0m \u001b[0mk\u001b[0m\u001b[1;33m,\u001b[0m \u001b[0mv\u001b[0m \u001b[1;32min\u001b[0m \u001b[0mkwargs\u001b[0m\u001b[1;33m.\u001b[0m\u001b[0mitems\u001b[0m\u001b[1;33m(\u001b[0m\u001b[1;33m)\u001b[0m\u001b[1;33m}\u001b[0m\u001b[1;33m\u001b[0m\u001b[1;33m\u001b[0m\u001b[0m\n\u001b[1;32m---> 41\u001b[1;33m         \u001b[1;32mreturn\u001b[0m \u001b[0mfunc\u001b[0m\u001b[1;33m(\u001b[0m\u001b[1;33m*\u001b[0m\u001b[0margs\u001b[0m\u001b[1;33m,\u001b[0m \u001b[1;33m**\u001b[0m\u001b[0mkwargs\u001b[0m\u001b[1;33m)\u001b[0m\u001b[1;33m\u001b[0m\u001b[1;33m\u001b[0m\u001b[0m\n\u001b[0m\u001b[0;32m     42\u001b[0m \u001b[1;33m\u001b[0m\u001b[0m\n\u001b[0;32m     43\u001b[0m     \u001b[1;31m# copy over the lru_cache extra methods to this wrapper to be able to access them\u001b[0m\u001b[1;33m\u001b[0m\u001b[1;33m\u001b[0m\u001b[1;33m\u001b[0m\u001b[0m\n",
      "\u001b[1;32mc:\\Users\\Gabriel\\AppData\\Local\\Programs\\Python\\Python37\\lib\\site-packages\\yfinance\\data.py\u001b[0m in \u001b[0;36mget_json_data_stores\u001b[1;34m(self, sub_page, proxy)\u001b[0m\n\u001b[0;32m    309\u001b[0m \u001b[1;33m\u001b[0m\u001b[0m\n\u001b[0;32m    310\u001b[0m         \u001b[1;31m# Decrypt!\u001b[0m\u001b[1;33m\u001b[0m\u001b[1;33m\u001b[0m\u001b[1;33m\u001b[0m\u001b[0m\n\u001b[1;32m--> 311\u001b[1;33m         \u001b[0mstores\u001b[0m \u001b[1;33m=\u001b[0m \u001b[0mdecrypt_cryptojs_aes_stores\u001b[0m\u001b[1;33m(\u001b[0m\u001b[0mdata\u001b[0m\u001b[1;33m,\u001b[0m \u001b[0mkeys\u001b[0m\u001b[1;33m)\u001b[0m\u001b[1;33m\u001b[0m\u001b[1;33m\u001b[0m\u001b[0m\n\u001b[0m\u001b[0;32m    312\u001b[0m         \u001b[1;32mif\u001b[0m \u001b[0mstores\u001b[0m \u001b[1;32mis\u001b[0m \u001b[1;32mNone\u001b[0m\u001b[1;33m:\u001b[0m\u001b[1;33m\u001b[0m\u001b[1;33m\u001b[0m\u001b[0m\n\u001b[0;32m    313\u001b[0m             \u001b[1;31m# Maybe Yahoo returned old format, not encrypted\u001b[0m\u001b[1;33m\u001b[0m\u001b[1;33m\u001b[0m\u001b[1;33m\u001b[0m\u001b[0m\n",
      "\u001b[1;32mc:\\Users\\Gabriel\\AppData\\Local\\Programs\\Python\\Python37\\lib\\site-packages\\yfinance\\data.py\u001b[0m in \u001b[0;36mdecrypt_cryptojs_aes_stores\u001b[1;34m(data, keys)\u001b[0m\n\u001b[0;32m    160\u001b[0m                 \u001b[1;32mpass\u001b[0m\u001b[1;33m\u001b[0m\u001b[1;33m\u001b[0m\u001b[0m\n\u001b[0;32m    161\u001b[0m         \u001b[1;32mif\u001b[0m \u001b[1;32mnot\u001b[0m \u001b[0msuccess\u001b[0m\u001b[1;33m:\u001b[0m\u001b[1;33m\u001b[0m\u001b[1;33m\u001b[0m\u001b[0m\n\u001b[1;32m--> 162\u001b[1;33m             \u001b[1;32mraise\u001b[0m \u001b[0mException\u001b[0m\u001b[1;33m(\u001b[0m\u001b[1;34m\"yfinance failed to decrypt Yahoo data response\"\u001b[0m\u001b[1;33m)\u001b[0m\u001b[1;33m\u001b[0m\u001b[1;33m\u001b[0m\u001b[0m\n\u001b[0m\u001b[0;32m    163\u001b[0m \u001b[1;33m\u001b[0m\u001b[0m\n\u001b[0;32m    164\u001b[0m     \u001b[0mdecoded_stores\u001b[0m \u001b[1;33m=\u001b[0m \u001b[0mjson\u001b[0m\u001b[1;33m.\u001b[0m\u001b[0mloads\u001b[0m\u001b[1;33m(\u001b[0m\u001b[0mplaintext\u001b[0m\u001b[1;33m)\u001b[0m\u001b[1;33m\u001b[0m\u001b[1;33m\u001b[0m\u001b[0m\n",
      "\u001b[1;31mException\u001b[0m: yfinance failed to decrypt Yahoo data response"
     ]
    }
   ],
   "source": [
    "sectors = []\n",
    "industries = []\n",
    "prices = []\n",
    "for ticker in tickers:\n",
    "    print(ticker)\n",
    "    tickerdata = yf.Ticker(ticker)\n",
    "    prices.append(tickerdata.info['regularMarketPrice'])\n",
    "    sectors.append(tickerdata.info['sector'])\n",
    "    industries.append(tickerdata.info['industry'])"
   ]
  },
  {
   "cell_type": "code",
   "execution_count": null,
   "id": "92f71560",
   "metadata": {},
   "outputs": [
    {
     "data": {
      "text/plain": [
       "['Consumer Cyclical',\n",
       " 'Consumer Cyclical',\n",
       " 'Communication Services',\n",
       " 'Communication Services',\n",
       " 'Consumer Defensive',\n",
       " 'Consumer Defensive',\n",
       " 'Industrials',\n",
       " 'Energy',\n",
       " 'Energy',\n",
       " 'Healthcare',\n",
       " 'Healthcare',\n",
       " 'Financial Services',\n",
       " 'Financial Services',\n",
       " 'Financial Services',\n",
       " 'Real Estate',\n",
       " 'Technology',\n",
       " 'Technology',\n",
       " 'Consumer Defensive',\n",
       " 'Industrials',\n",
       " 'Healthcare',\n",
       " 'Industrials',\n",
       " 'Technology',\n",
       " 'Communication Services',\n",
       " 'Communication Services',\n",
       " 'Financial Services',\n",
       " 'Financial Services',\n",
       " 'Technology',\n",
       " 'Energy',\n",
       " 'Technology',\n",
       " 'Real Estate',\n",
       " 'Energy',\n",
       " 'Technology',\n",
       " 'Healthcare',\n",
       " 'Technology']"
      ]
     },
     "execution_count": 12,
     "metadata": {},
     "output_type": "execute_result"
    }
   ],
   "source": [
    "sectors"
   ]
  },
  {
   "cell_type": "code",
   "execution_count": null,
   "id": "f2f9bb61",
   "metadata": {},
   "outputs": [
    {
     "data": {
      "text/plain": [
       "['Internet Retail',\n",
       " 'Auto Manufacturers',\n",
       " 'Internet Content & Information',\n",
       " 'Internet Content & Information',\n",
       " 'Beverages—Non-Alcoholic',\n",
       " 'Beverages—Non-Alcoholic',\n",
       " 'Aerospace & Defense',\n",
       " 'Oil & Gas Integrated',\n",
       " 'Oil & Gas Integrated',\n",
       " 'Healthcare Plans',\n",
       " 'Drug Manufacturers—General',\n",
       " 'Banks—Diversified',\n",
       " 'Banks—Diversified',\n",
       " 'Banks—Diversified',\n",
       " 'REIT—Retail',\n",
       " 'Consumer Electronics',\n",
       " 'Software—Infrastructure',\n",
       " 'Discount Stores',\n",
       " 'Aerospace & Defense',\n",
       " 'Drug Manufacturers—General',\n",
       " 'Conglomerates',\n",
       " 'Software—Infrastructure',\n",
       " 'Entertainment',\n",
       " 'Entertainment',\n",
       " 'Insurance—Diversified',\n",
       " 'Insurance—Diversified',\n",
       " 'Software—Application',\n",
       " 'Oil & Gas Equipment & Services',\n",
       " 'Consumer Electronics',\n",
       " 'REIT—Industrial',\n",
       " 'Oil & Gas Refining & Marketing',\n",
       " 'Semiconductors',\n",
       " 'Medical Instruments & Supplies',\n",
       " 'Semiconductors']"
      ]
     },
     "execution_count": 13,
     "metadata": {},
     "output_type": "execute_result"
    }
   ],
   "source": [
    "industries"
   ]
  },
  {
   "cell_type": "markdown",
   "id": "cbc61cc4",
   "metadata": {},
   "source": [
    "# Combine the Information Above and the Corresponding Tickers into a DataFrame"
   ]
  },
  {
   "cell_type": "code",
   "execution_count": null,
   "id": "b77c11b1",
   "metadata": {},
   "outputs": [
    {
     "ename": "NameError",
     "evalue": "name 'sectors' is not defined",
     "output_type": "error",
     "traceback": [
      "\u001b[1;31m---------------------------------------------------------------------------\u001b[0m",
      "\u001b[1;31mNameError\u001b[0m                                 Traceback (most recent call last)",
      "\u001b[1;32m~\\AppData\\Local\\Temp\\ipykernel_14576\\2543483731.py\u001b[0m in \u001b[0;36m<module>\u001b[1;34m\u001b[0m\n\u001b[0;32m      1\u001b[0m \u001b[1;31m# dictionary {'column name': list of values for column} to be converted to dataframe\u001b[0m\u001b[1;33m\u001b[0m\u001b[1;33m\u001b[0m\u001b[1;33m\u001b[0m\u001b[0m\n\u001b[1;32m----> 2\u001b[1;33m \u001b[0md\u001b[0m \u001b[1;33m=\u001b[0m \u001b[1;33m{\u001b[0m\u001b[1;34m'Sector'\u001b[0m\u001b[1;33m:\u001b[0m \u001b[0msectors\u001b[0m\u001b[1;33m,\u001b[0m \u001b[1;34m'Industry'\u001b[0m\u001b[1;33m:\u001b[0m \u001b[0mindustries\u001b[0m\u001b[1;33m,\u001b[0m \u001b[1;34m'Price'\u001b[0m\u001b[1;33m:\u001b[0m \u001b[0mprices\u001b[0m\u001b[1;33m,\u001b[0m \u001b[1;34m'No. of Shares'\u001b[0m\u001b[1;33m:\u001b[0m \u001b[0mnumber_of_shares\u001b[0m\u001b[1;33m}\u001b[0m\u001b[1;33m\u001b[0m\u001b[1;33m\u001b[0m\u001b[0m\n\u001b[0m\u001b[0;32m      3\u001b[0m \u001b[1;31m# create dataframe from\u001b[0m\u001b[1;33m\u001b[0m\u001b[1;33m\u001b[0m\u001b[1;33m\u001b[0m\u001b[0m\n\u001b[0;32m      4\u001b[0m \u001b[0mdf_info\u001b[0m \u001b[1;33m=\u001b[0m \u001b[0mpd\u001b[0m\u001b[1;33m.\u001b[0m\u001b[0mDataFrame\u001b[0m\u001b[1;33m(\u001b[0m\u001b[0mdata\u001b[0m\u001b[1;33m=\u001b[0m\u001b[0md\u001b[0m\u001b[1;33m,\u001b[0m \u001b[0mindex\u001b[0m \u001b[1;33m=\u001b[0m \u001b[0mtickers\u001b[0m\u001b[1;33m)\u001b[0m\u001b[1;33m\u001b[0m\u001b[1;33m\u001b[0m\u001b[0m\n\u001b[0;32m      5\u001b[0m \u001b[0mdf_info\u001b[0m\u001b[1;33m\u001b[0m\u001b[1;33m\u001b[0m\u001b[0m\n",
      "\u001b[1;31mNameError\u001b[0m: name 'sectors' is not defined"
     ]
    }
   ],
   "source": [
    "# dictionary {'column name': list of values for column} to be converted to dataframe\n",
    "d = {'Sector': sectors, 'Industry': industries, 'Price': prices, 'No. of Shares': number_of_shares}\n",
    "# create dataframe from \n",
    "df_info = pd.DataFrame(data=d, index = tickers)\n",
    "df_info"
   ]
  },
  {
   "cell_type": "markdown",
   "id": "99b4ae62",
   "metadata": {},
   "source": [
    "# Calculate the Total Value of Each Ticker in the Portfolio"
   ]
  },
  {
   "cell_type": "code",
   "execution_count": null,
   "id": "5df8a3f1",
   "metadata": {},
   "outputs": [
    {
     "data": {
      "text/html": [
       "<div>\n",
       "<style scoped>\n",
       "    .dataframe tbody tr th:only-of-type {\n",
       "        vertical-align: middle;\n",
       "    }\n",
       "\n",
       "    .dataframe tbody tr th {\n",
       "        vertical-align: top;\n",
       "    }\n",
       "\n",
       "    .dataframe thead th {\n",
       "        text-align: right;\n",
       "    }\n",
       "</style>\n",
       "<table border=\"1\" class=\"dataframe\">\n",
       "  <thead>\n",
       "    <tr style=\"text-align: right;\">\n",
       "      <th></th>\n",
       "      <th>Sector</th>\n",
       "      <th>Industry</th>\n",
       "      <th>Price</th>\n",
       "      <th>No. of Shares</th>\n",
       "      <th>Total Stock Value in Portfolio</th>\n",
       "    </tr>\n",
       "  </thead>\n",
       "  <tbody>\n",
       "    <tr>\n",
       "      <th>AMZN</th>\n",
       "      <td>Consumer Cyclical</td>\n",
       "      <td>Internet Retail</td>\n",
       "      <td>142.30</td>\n",
       "      <td>5</td>\n",
       "      <td>711.50</td>\n",
       "    </tr>\n",
       "    <tr>\n",
       "      <th>TSLA</th>\n",
       "      <td>Consumer Cyclical</td>\n",
       "      <td>Auto Manufacturers</td>\n",
       "      <td>908.61</td>\n",
       "      <td>1</td>\n",
       "      <td>908.61</td>\n",
       "    </tr>\n",
       "    <tr>\n",
       "      <th>GOOG</th>\n",
       "      <td>Communication Services</td>\n",
       "      <td>Internet Content &amp; Information</td>\n",
       "      <td>120.86</td>\n",
       "      <td>3</td>\n",
       "      <td>362.58</td>\n",
       "    </tr>\n",
       "    <tr>\n",
       "      <th>META</th>\n",
       "      <td>Communication Services</td>\n",
       "      <td>Internet Content &amp; Information</td>\n",
       "      <td>174.66</td>\n",
       "      <td>3</td>\n",
       "      <td>523.98</td>\n",
       "    </tr>\n",
       "    <tr>\n",
       "      <th>KO</th>\n",
       "      <td>Consumer Defensive</td>\n",
       "      <td>Beverages—Non-Alcoholic</td>\n",
       "      <td>65.22</td>\n",
       "      <td>10</td>\n",
       "      <td>652.20</td>\n",
       "    </tr>\n",
       "    <tr>\n",
       "      <th>PEP</th>\n",
       "      <td>Consumer Defensive</td>\n",
       "      <td>Beverages—Non-Alcoholic</td>\n",
       "      <td>180.40</td>\n",
       "      <td>5</td>\n",
       "      <td>902.00</td>\n",
       "    </tr>\n",
       "    <tr>\n",
       "      <th>BA</th>\n",
       "      <td>Industrials</td>\n",
       "      <td>Aerospace &amp; Defense</td>\n",
       "      <td>168.69</td>\n",
       "      <td>5</td>\n",
       "      <td>843.45</td>\n",
       "    </tr>\n",
       "    <tr>\n",
       "      <th>XOM</th>\n",
       "      <td>Energy</td>\n",
       "      <td>Oil &amp; Gas Integrated</td>\n",
       "      <td>94.38</td>\n",
       "      <td>5</td>\n",
       "      <td>471.90</td>\n",
       "    </tr>\n",
       "    <tr>\n",
       "      <th>CVX</th>\n",
       "      <td>Energy</td>\n",
       "      <td>Oil &amp; Gas Integrated</td>\n",
       "      <td>159.02</td>\n",
       "      <td>4</td>\n",
       "      <td>636.08</td>\n",
       "    </tr>\n",
       "    <tr>\n",
       "      <th>UNH</th>\n",
       "      <td>Healthcare</td>\n",
       "      <td>Healthcare Plans</td>\n",
       "      <td>545.22</td>\n",
       "      <td>1</td>\n",
       "      <td>545.22</td>\n",
       "    </tr>\n",
       "    <tr>\n",
       "      <th>JNJ</th>\n",
       "      <td>Healthcare</td>\n",
       "      <td>Drug Manufacturers—General</td>\n",
       "      <td>166.77</td>\n",
       "      <td>3</td>\n",
       "      <td>500.31</td>\n",
       "    </tr>\n",
       "    <tr>\n",
       "      <th>JPM</th>\n",
       "      <td>Financial Services</td>\n",
       "      <td>Banks—Diversified</td>\n",
       "      <td>121.64</td>\n",
       "      <td>3</td>\n",
       "      <td>364.92</td>\n",
       "    </tr>\n",
       "    <tr>\n",
       "      <th>BAC</th>\n",
       "      <td>Financial Services</td>\n",
       "      <td>Banks—Diversified</td>\n",
       "      <td>36.28</td>\n",
       "      <td>5</td>\n",
       "      <td>181.40</td>\n",
       "    </tr>\n",
       "    <tr>\n",
       "      <th>C</th>\n",
       "      <td>Financial Services</td>\n",
       "      <td>Banks—Diversified</td>\n",
       "      <td>53.55</td>\n",
       "      <td>5</td>\n",
       "      <td>267.75</td>\n",
       "    </tr>\n",
       "    <tr>\n",
       "      <th>SPG</th>\n",
       "      <td>Real Estate</td>\n",
       "      <td>REIT—Retail</td>\n",
       "      <td>113.33</td>\n",
       "      <td>10</td>\n",
       "      <td>1133.30</td>\n",
       "    </tr>\n",
       "    <tr>\n",
       "      <th>AAPL</th>\n",
       "      <td>Technology</td>\n",
       "      <td>Consumer Electronics</td>\n",
       "      <td>174.15</td>\n",
       "      <td>6</td>\n",
       "      <td>1044.90</td>\n",
       "    </tr>\n",
       "    <tr>\n",
       "      <th>MSFT</th>\n",
       "      <td>Technology</td>\n",
       "      <td>Software—Infrastructure</td>\n",
       "      <td>290.17</td>\n",
       "      <td>5</td>\n",
       "      <td>1450.85</td>\n",
       "    </tr>\n",
       "    <tr>\n",
       "      <th>WMT</th>\n",
       "      <td>Consumer Defensive</td>\n",
       "      <td>Discount Stores</td>\n",
       "      <td>139.07</td>\n",
       "      <td>6</td>\n",
       "      <td>834.42</td>\n",
       "    </tr>\n",
       "    <tr>\n",
       "      <th>LMT</th>\n",
       "      <td>Industrials</td>\n",
       "      <td>Aerospace &amp; Defense</td>\n",
       "      <td>439.35</td>\n",
       "      <td>2</td>\n",
       "      <td>878.70</td>\n",
       "    </tr>\n",
       "    <tr>\n",
       "      <th>PFE</th>\n",
       "      <td>Healthcare</td>\n",
       "      <td>Drug Manufacturers—General</td>\n",
       "      <td>48.58</td>\n",
       "      <td>10</td>\n",
       "      <td>485.80</td>\n",
       "    </tr>\n",
       "    <tr>\n",
       "      <th>MMM</th>\n",
       "      <td>Industrials</td>\n",
       "      <td>Conglomerates</td>\n",
       "      <td>146.68</td>\n",
       "      <td>3</td>\n",
       "      <td>440.04</td>\n",
       "    </tr>\n",
       "    <tr>\n",
       "      <th>CRWD</th>\n",
       "      <td>Technology</td>\n",
       "      <td>Software—Infrastructure</td>\n",
       "      <td>195.76</td>\n",
       "      <td>3</td>\n",
       "      <td>587.28</td>\n",
       "    </tr>\n",
       "    <tr>\n",
       "      <th>WBD</th>\n",
       "      <td>Communication Services</td>\n",
       "      <td>Entertainment</td>\n",
       "      <td>13.19</td>\n",
       "      <td>20</td>\n",
       "      <td>263.80</td>\n",
       "    </tr>\n",
       "    <tr>\n",
       "      <th>DIS</th>\n",
       "      <td>Communication Services</td>\n",
       "      <td>Entertainment</td>\n",
       "      <td>122.67</td>\n",
       "      <td>8</td>\n",
       "      <td>981.36</td>\n",
       "    </tr>\n",
       "    <tr>\n",
       "      <th>AIG</th>\n",
       "      <td>Financial Services</td>\n",
       "      <td>Insurance—Diversified</td>\n",
       "      <td>57.33</td>\n",
       "      <td>5</td>\n",
       "      <td>286.65</td>\n",
       "    </tr>\n",
       "    <tr>\n",
       "      <th>BRK-B</th>\n",
       "      <td>Financial Services</td>\n",
       "      <td>Insurance—Diversified</td>\n",
       "      <td>304.27</td>\n",
       "      <td>4</td>\n",
       "      <td>1217.08</td>\n",
       "    </tr>\n",
       "    <tr>\n",
       "      <th>DDOG</th>\n",
       "      <td>Technology</td>\n",
       "      <td>Software—Application</td>\n",
       "      <td>109.45</td>\n",
       "      <td>3</td>\n",
       "      <td>328.35</td>\n",
       "    </tr>\n",
       "    <tr>\n",
       "      <th>SLB</th>\n",
       "      <td>Energy</td>\n",
       "      <td>Oil &amp; Gas Equipment &amp; Services</td>\n",
       "      <td>37.13</td>\n",
       "      <td>16</td>\n",
       "      <td>594.08</td>\n",
       "    </tr>\n",
       "    <tr>\n",
       "      <th>SONY</th>\n",
       "      <td>Technology</td>\n",
       "      <td>Consumer Electronics</td>\n",
       "      <td>86.88</td>\n",
       "      <td>5</td>\n",
       "      <td>434.40</td>\n",
       "    </tr>\n",
       "    <tr>\n",
       "      <th>PLD</th>\n",
       "      <td>Real Estate</td>\n",
       "      <td>REIT—Industrial</td>\n",
       "      <td>136.63</td>\n",
       "      <td>5</td>\n",
       "      <td>683.15</td>\n",
       "    </tr>\n",
       "    <tr>\n",
       "      <th>INT</th>\n",
       "      <td>Energy</td>\n",
       "      <td>Oil &amp; Gas Refining &amp; Marketing</td>\n",
       "      <td>28.45</td>\n",
       "      <td>16</td>\n",
       "      <td>455.20</td>\n",
       "    </tr>\n",
       "    <tr>\n",
       "      <th>AMD</th>\n",
       "      <td>Technology</td>\n",
       "      <td>Semiconductors</td>\n",
       "      <td>100.44</td>\n",
       "      <td>5</td>\n",
       "      <td>502.20</td>\n",
       "    </tr>\n",
       "    <tr>\n",
       "      <th>ISRG</th>\n",
       "      <td>Healthcare</td>\n",
       "      <td>Medical Instruments &amp; Supplies</td>\n",
       "      <td>229.59</td>\n",
       "      <td>3</td>\n",
       "      <td>688.77</td>\n",
       "    </tr>\n",
       "    <tr>\n",
       "      <th>INTC</th>\n",
       "      <td>Technology</td>\n",
       "      <td>Semiconductors</td>\n",
       "      <td>36.20</td>\n",
       "      <td>5</td>\n",
       "      <td>181.00</td>\n",
       "    </tr>\n",
       "  </tbody>\n",
       "</table>\n",
       "</div>"
      ],
      "text/plain": [
       "                       Sector                        Industry   Price  \\\n",
       "AMZN        Consumer Cyclical                 Internet Retail  142.30   \n",
       "TSLA        Consumer Cyclical              Auto Manufacturers  908.61   \n",
       "GOOG   Communication Services  Internet Content & Information  120.86   \n",
       "META   Communication Services  Internet Content & Information  174.66   \n",
       "KO         Consumer Defensive         Beverages—Non-Alcoholic   65.22   \n",
       "PEP        Consumer Defensive         Beverages—Non-Alcoholic  180.40   \n",
       "BA                Industrials             Aerospace & Defense  168.69   \n",
       "XOM                    Energy            Oil & Gas Integrated   94.38   \n",
       "CVX                    Energy            Oil & Gas Integrated  159.02   \n",
       "UNH                Healthcare                Healthcare Plans  545.22   \n",
       "JNJ                Healthcare      Drug Manufacturers—General  166.77   \n",
       "JPM        Financial Services               Banks—Diversified  121.64   \n",
       "BAC        Financial Services               Banks—Diversified   36.28   \n",
       "C          Financial Services               Banks—Diversified   53.55   \n",
       "SPG               Real Estate                     REIT—Retail  113.33   \n",
       "AAPL               Technology            Consumer Electronics  174.15   \n",
       "MSFT               Technology         Software—Infrastructure  290.17   \n",
       "WMT        Consumer Defensive                 Discount Stores  139.07   \n",
       "LMT               Industrials             Aerospace & Defense  439.35   \n",
       "PFE                Healthcare      Drug Manufacturers—General   48.58   \n",
       "MMM               Industrials                   Conglomerates  146.68   \n",
       "CRWD               Technology         Software—Infrastructure  195.76   \n",
       "WBD    Communication Services                   Entertainment   13.19   \n",
       "DIS    Communication Services                   Entertainment  122.67   \n",
       "AIG        Financial Services           Insurance—Diversified   57.33   \n",
       "BRK-B      Financial Services           Insurance—Diversified  304.27   \n",
       "DDOG               Technology            Software—Application  109.45   \n",
       "SLB                    Energy  Oil & Gas Equipment & Services   37.13   \n",
       "SONY               Technology            Consumer Electronics   86.88   \n",
       "PLD               Real Estate                 REIT—Industrial  136.63   \n",
       "INT                    Energy  Oil & Gas Refining & Marketing   28.45   \n",
       "AMD                Technology                  Semiconductors  100.44   \n",
       "ISRG               Healthcare  Medical Instruments & Supplies  229.59   \n",
       "INTC               Technology                  Semiconductors   36.20   \n",
       "\n",
       "       No. of Shares  Total Stock Value in Portfolio  \n",
       "AMZN               5                          711.50  \n",
       "TSLA               1                          908.61  \n",
       "GOOG               3                          362.58  \n",
       "META               3                          523.98  \n",
       "KO                10                          652.20  \n",
       "PEP                5                          902.00  \n",
       "BA                 5                          843.45  \n",
       "XOM                5                          471.90  \n",
       "CVX                4                          636.08  \n",
       "UNH                1                          545.22  \n",
       "JNJ                3                          500.31  \n",
       "JPM                3                          364.92  \n",
       "BAC                5                          181.40  \n",
       "C                  5                          267.75  \n",
       "SPG               10                         1133.30  \n",
       "AAPL               6                         1044.90  \n",
       "MSFT               5                         1450.85  \n",
       "WMT                6                          834.42  \n",
       "LMT                2                          878.70  \n",
       "PFE               10                          485.80  \n",
       "MMM                3                          440.04  \n",
       "CRWD               3                          587.28  \n",
       "WBD               20                          263.80  \n",
       "DIS                8                          981.36  \n",
       "AIG                5                          286.65  \n",
       "BRK-B              4                         1217.08  \n",
       "DDOG               3                          328.35  \n",
       "SLB               16                          594.08  \n",
       "SONY               5                          434.40  \n",
       "PLD                5                          683.15  \n",
       "INT               16                          455.20  \n",
       "AMD                5                          502.20  \n",
       "ISRG               3                          688.77  \n",
       "INTC               5                          181.00  "
      ]
     },
     "execution_count": 15,
     "metadata": {},
     "output_type": "execute_result"
    }
   ],
   "source": [
    "df_info['Total Stock Value in Portfolio'] = df_info['Price']*df_info['No. of Shares']\n",
    "df_info"
   ]
  },
  {
   "cell_type": "markdown",
   "id": "5f24f97c",
   "metadata": {},
   "source": [
    "# Join all the Information into a Single DataFrame"
   ]
  },
  {
   "cell_type": "code",
   "execution_count": null,
   "id": "a1dc0315",
   "metadata": {},
   "outputs": [
    {
     "data": {
      "text/html": [
       "<div>\n",
       "<style scoped>\n",
       "    .dataframe tbody tr th:only-of-type {\n",
       "        vertical-align: middle;\n",
       "    }\n",
       "\n",
       "    .dataframe tbody tr th {\n",
       "        vertical-align: top;\n",
       "    }\n",
       "\n",
       "    .dataframe thead th {\n",
       "        text-align: right;\n",
       "    }\n",
       "</style>\n",
       "<table border=\"1\" class=\"dataframe\">\n",
       "  <thead>\n",
       "    <tr style=\"text-align: right;\">\n",
       "      <th></th>\n",
       "      <th>ticker</th>\n",
       "      <th>Negative</th>\n",
       "      <th>Neutral</th>\n",
       "      <th>Positive</th>\n",
       "      <th>Sentiment Score</th>\n",
       "      <th>Sector</th>\n",
       "      <th>Industry</th>\n",
       "      <th>Price</th>\n",
       "      <th>No. of Shares</th>\n",
       "      <th>Total Stock Value in Portfolio</th>\n",
       "    </tr>\n",
       "  </thead>\n",
       "  <tbody>\n",
       "    <tr>\n",
       "      <th>0</th>\n",
       "      <td>AAPL</td>\n",
       "      <td>0.04600</td>\n",
       "      <td>0.88786</td>\n",
       "      <td>0.06614</td>\n",
       "      <td>0.045105</td>\n",
       "      <td>Technology</td>\n",
       "      <td>Consumer Electronics</td>\n",
       "      <td>174.15</td>\n",
       "      <td>6</td>\n",
       "      <td>1044.90</td>\n",
       "    </tr>\n",
       "    <tr>\n",
       "      <th>1</th>\n",
       "      <td>AIG</td>\n",
       "      <td>0.03390</td>\n",
       "      <td>0.85817</td>\n",
       "      <td>0.10794</td>\n",
       "      <td>0.116029</td>\n",
       "      <td>Financial Services</td>\n",
       "      <td>Insurance—Diversified</td>\n",
       "      <td>57.33</td>\n",
       "      <td>5</td>\n",
       "      <td>286.65</td>\n",
       "    </tr>\n",
       "    <tr>\n",
       "      <th>2</th>\n",
       "      <td>AMD</td>\n",
       "      <td>0.08752</td>\n",
       "      <td>0.81381</td>\n",
       "      <td>0.09868</td>\n",
       "      <td>0.040556</td>\n",
       "      <td>Technology</td>\n",
       "      <td>Semiconductors</td>\n",
       "      <td>100.44</td>\n",
       "      <td>5</td>\n",
       "      <td>502.20</td>\n",
       "    </tr>\n",
       "    <tr>\n",
       "      <th>3</th>\n",
       "      <td>AMZN</td>\n",
       "      <td>0.07667</td>\n",
       "      <td>0.78021</td>\n",
       "      <td>0.14310</td>\n",
       "      <td>0.084955</td>\n",
       "      <td>Consumer Cyclical</td>\n",
       "      <td>Internet Retail</td>\n",
       "      <td>142.30</td>\n",
       "      <td>5</td>\n",
       "      <td>711.50</td>\n",
       "    </tr>\n",
       "    <tr>\n",
       "      <th>4</th>\n",
       "      <td>BA</td>\n",
       "      <td>0.06676</td>\n",
       "      <td>0.80862</td>\n",
       "      <td>0.12465</td>\n",
       "      <td>0.089244</td>\n",
       "      <td>Industrials</td>\n",
       "      <td>Aerospace &amp; Defense</td>\n",
       "      <td>168.69</td>\n",
       "      <td>5</td>\n",
       "      <td>843.45</td>\n",
       "    </tr>\n",
       "    <tr>\n",
       "      <th>5</th>\n",
       "      <td>BAC</td>\n",
       "      <td>0.06079</td>\n",
       "      <td>0.87055</td>\n",
       "      <td>0.06865</td>\n",
       "      <td>0.020812</td>\n",
       "      <td>Financial Services</td>\n",
       "      <td>Banks—Diversified</td>\n",
       "      <td>36.28</td>\n",
       "      <td>5</td>\n",
       "      <td>181.40</td>\n",
       "    </tr>\n",
       "    <tr>\n",
       "      <th>6</th>\n",
       "      <td>BRK-B</td>\n",
       "      <td>0.04808</td>\n",
       "      <td>0.85515</td>\n",
       "      <td>0.09676</td>\n",
       "      <td>0.077493</td>\n",
       "      <td>Financial Services</td>\n",
       "      <td>Insurance—Diversified</td>\n",
       "      <td>304.27</td>\n",
       "      <td>4</td>\n",
       "      <td>1217.08</td>\n",
       "    </tr>\n",
       "    <tr>\n",
       "      <th>7</th>\n",
       "      <td>C</td>\n",
       "      <td>0.08289</td>\n",
       "      <td>0.85726</td>\n",
       "      <td>0.05985</td>\n",
       "      <td>-0.042347</td>\n",
       "      <td>Financial Services</td>\n",
       "      <td>Banks—Diversified</td>\n",
       "      <td>53.55</td>\n",
       "      <td>5</td>\n",
       "      <td>267.75</td>\n",
       "    </tr>\n",
       "    <tr>\n",
       "      <th>8</th>\n",
       "      <td>CRWD</td>\n",
       "      <td>0.03986</td>\n",
       "      <td>0.82033</td>\n",
       "      <td>0.13979</td>\n",
       "      <td>0.158167</td>\n",
       "      <td>Technology</td>\n",
       "      <td>Software—Infrastructure</td>\n",
       "      <td>195.76</td>\n",
       "      <td>3</td>\n",
       "      <td>587.28</td>\n",
       "    </tr>\n",
       "    <tr>\n",
       "      <th>9</th>\n",
       "      <td>CVX</td>\n",
       "      <td>0.04751</td>\n",
       "      <td>0.82877</td>\n",
       "      <td>0.12371</td>\n",
       "      <td>0.124530</td>\n",
       "      <td>Energy</td>\n",
       "      <td>Oil &amp; Gas Integrated</td>\n",
       "      <td>159.02</td>\n",
       "      <td>4</td>\n",
       "      <td>636.08</td>\n",
       "    </tr>\n",
       "    <tr>\n",
       "      <th>10</th>\n",
       "      <td>DDOG</td>\n",
       "      <td>0.02658</td>\n",
       "      <td>0.85316</td>\n",
       "      <td>0.12025</td>\n",
       "      <td>0.132228</td>\n",
       "      <td>Technology</td>\n",
       "      <td>Software—Application</td>\n",
       "      <td>109.45</td>\n",
       "      <td>3</td>\n",
       "      <td>328.35</td>\n",
       "    </tr>\n",
       "    <tr>\n",
       "      <th>11</th>\n",
       "      <td>DIS</td>\n",
       "      <td>0.05143</td>\n",
       "      <td>0.84438</td>\n",
       "      <td>0.10419</td>\n",
       "      <td>0.098045</td>\n",
       "      <td>Communication Services</td>\n",
       "      <td>Entertainment</td>\n",
       "      <td>122.67</td>\n",
       "      <td>8</td>\n",
       "      <td>981.36</td>\n",
       "    </tr>\n",
       "    <tr>\n",
       "      <th>12</th>\n",
       "      <td>GOOG</td>\n",
       "      <td>0.04519</td>\n",
       "      <td>0.85342</td>\n",
       "      <td>0.10138</td>\n",
       "      <td>0.096857</td>\n",
       "      <td>Communication Services</td>\n",
       "      <td>Internet Content &amp; Information</td>\n",
       "      <td>120.86</td>\n",
       "      <td>3</td>\n",
       "      <td>362.58</td>\n",
       "    </tr>\n",
       "    <tr>\n",
       "      <th>13</th>\n",
       "      <td>INT</td>\n",
       "      <td>0.02148</td>\n",
       "      <td>0.89749</td>\n",
       "      <td>0.08101</td>\n",
       "      <td>0.105958</td>\n",
       "      <td>Energy</td>\n",
       "      <td>Oil &amp; Gas Refining &amp; Marketing</td>\n",
       "      <td>28.45</td>\n",
       "      <td>16</td>\n",
       "      <td>455.20</td>\n",
       "    </tr>\n",
       "    <tr>\n",
       "      <th>14</th>\n",
       "      <td>INTC</td>\n",
       "      <td>0.09993</td>\n",
       "      <td>0.80251</td>\n",
       "      <td>0.09758</td>\n",
       "      <td>0.018154</td>\n",
       "      <td>Technology</td>\n",
       "      <td>Semiconductors</td>\n",
       "      <td>36.20</td>\n",
       "      <td>5</td>\n",
       "      <td>181.00</td>\n",
       "    </tr>\n",
       "    <tr>\n",
       "      <th>15</th>\n",
       "      <td>ISRG</td>\n",
       "      <td>0.03453</td>\n",
       "      <td>0.81289</td>\n",
       "      <td>0.15257</td>\n",
       "      <td>0.192068</td>\n",
       "      <td>Healthcare</td>\n",
       "      <td>Medical Instruments &amp; Supplies</td>\n",
       "      <td>229.59</td>\n",
       "      <td>3</td>\n",
       "      <td>688.77</td>\n",
       "    </tr>\n",
       "    <tr>\n",
       "      <th>16</th>\n",
       "      <td>JNJ</td>\n",
       "      <td>0.06432</td>\n",
       "      <td>0.82329</td>\n",
       "      <td>0.11240</td>\n",
       "      <td>0.073712</td>\n",
       "      <td>Healthcare</td>\n",
       "      <td>Drug Manufacturers—General</td>\n",
       "      <td>166.77</td>\n",
       "      <td>3</td>\n",
       "      <td>500.31</td>\n",
       "    </tr>\n",
       "    <tr>\n",
       "      <th>17</th>\n",
       "      <td>JPM</td>\n",
       "      <td>0.06750</td>\n",
       "      <td>0.85262</td>\n",
       "      <td>0.07989</td>\n",
       "      <td>0.021636</td>\n",
       "      <td>Financial Services</td>\n",
       "      <td>Banks—Diversified</td>\n",
       "      <td>121.64</td>\n",
       "      <td>3</td>\n",
       "      <td>364.92</td>\n",
       "    </tr>\n",
       "    <tr>\n",
       "      <th>18</th>\n",
       "      <td>KO</td>\n",
       "      <td>0.05318</td>\n",
       "      <td>0.83365</td>\n",
       "      <td>0.11315</td>\n",
       "      <td>0.103655</td>\n",
       "      <td>Consumer Defensive</td>\n",
       "      <td>Beverages—Non-Alcoholic</td>\n",
       "      <td>65.22</td>\n",
       "      <td>10</td>\n",
       "      <td>652.20</td>\n",
       "    </tr>\n",
       "    <tr>\n",
       "      <th>19</th>\n",
       "      <td>LMT</td>\n",
       "      <td>0.05994</td>\n",
       "      <td>0.81423</td>\n",
       "      <td>0.12584</td>\n",
       "      <td>0.111772</td>\n",
       "      <td>Industrials</td>\n",
       "      <td>Aerospace &amp; Defense</td>\n",
       "      <td>439.35</td>\n",
       "      <td>2</td>\n",
       "      <td>878.70</td>\n",
       "    </tr>\n",
       "    <tr>\n",
       "      <th>20</th>\n",
       "      <td>META</td>\n",
       "      <td>0.08444</td>\n",
       "      <td>0.81728</td>\n",
       "      <td>0.09826</td>\n",
       "      <td>0.017812</td>\n",
       "      <td>Communication Services</td>\n",
       "      <td>Internet Content &amp; Information</td>\n",
       "      <td>174.66</td>\n",
       "      <td>3</td>\n",
       "      <td>523.98</td>\n",
       "    </tr>\n",
       "    <tr>\n",
       "      <th>21</th>\n",
       "      <td>MMM</td>\n",
       "      <td>0.07373</td>\n",
       "      <td>0.82362</td>\n",
       "      <td>0.10265</td>\n",
       "      <td>0.042441</td>\n",
       "      <td>Industrials</td>\n",
       "      <td>Conglomerates</td>\n",
       "      <td>146.68</td>\n",
       "      <td>3</td>\n",
       "      <td>440.04</td>\n",
       "    </tr>\n",
       "    <tr>\n",
       "      <th>22</th>\n",
       "      <td>MSFT</td>\n",
       "      <td>0.07718</td>\n",
       "      <td>0.82524</td>\n",
       "      <td>0.09761</td>\n",
       "      <td>0.037550</td>\n",
       "      <td>Technology</td>\n",
       "      <td>Software—Infrastructure</td>\n",
       "      <td>290.17</td>\n",
       "      <td>5</td>\n",
       "      <td>1450.85</td>\n",
       "    </tr>\n",
       "    <tr>\n",
       "      <th>23</th>\n",
       "      <td>PEP</td>\n",
       "      <td>0.03641</td>\n",
       "      <td>0.86680</td>\n",
       "      <td>0.09680</td>\n",
       "      <td>0.100216</td>\n",
       "      <td>Consumer Defensive</td>\n",
       "      <td>Beverages—Non-Alcoholic</td>\n",
       "      <td>180.40</td>\n",
       "      <td>5</td>\n",
       "      <td>902.00</td>\n",
       "    </tr>\n",
       "    <tr>\n",
       "      <th>24</th>\n",
       "      <td>PFE</td>\n",
       "      <td>0.06613</td>\n",
       "      <td>0.82667</td>\n",
       "      <td>0.10720</td>\n",
       "      <td>0.076161</td>\n",
       "      <td>Healthcare</td>\n",
       "      <td>Drug Manufacturers—General</td>\n",
       "      <td>48.58</td>\n",
       "      <td>10</td>\n",
       "      <td>485.80</td>\n",
       "    </tr>\n",
       "    <tr>\n",
       "      <th>25</th>\n",
       "      <td>PLD</td>\n",
       "      <td>0.03840</td>\n",
       "      <td>0.81927</td>\n",
       "      <td>0.14234</td>\n",
       "      <td>0.170365</td>\n",
       "      <td>Real Estate</td>\n",
       "      <td>REIT—Industrial</td>\n",
       "      <td>136.63</td>\n",
       "      <td>5</td>\n",
       "      <td>683.15</td>\n",
       "    </tr>\n",
       "    <tr>\n",
       "      <th>26</th>\n",
       "      <td>SLB</td>\n",
       "      <td>0.04873</td>\n",
       "      <td>0.83892</td>\n",
       "      <td>0.11235</td>\n",
       "      <td>0.089273</td>\n",
       "      <td>Energy</td>\n",
       "      <td>Oil &amp; Gas Equipment &amp; Services</td>\n",
       "      <td>37.13</td>\n",
       "      <td>16</td>\n",
       "      <td>594.08</td>\n",
       "    </tr>\n",
       "    <tr>\n",
       "      <th>27</th>\n",
       "      <td>SONY</td>\n",
       "      <td>0.07540</td>\n",
       "      <td>0.84213</td>\n",
       "      <td>0.08246</td>\n",
       "      <td>0.023862</td>\n",
       "      <td>Technology</td>\n",
       "      <td>Consumer Electronics</td>\n",
       "      <td>86.88</td>\n",
       "      <td>5</td>\n",
       "      <td>434.40</td>\n",
       "    </tr>\n",
       "    <tr>\n",
       "      <th>28</th>\n",
       "      <td>SPG</td>\n",
       "      <td>0.02951</td>\n",
       "      <td>0.88102</td>\n",
       "      <td>0.08947</td>\n",
       "      <td>0.088671</td>\n",
       "      <td>Real Estate</td>\n",
       "      <td>REIT—Retail</td>\n",
       "      <td>113.33</td>\n",
       "      <td>10</td>\n",
       "      <td>1133.30</td>\n",
       "    </tr>\n",
       "    <tr>\n",
       "      <th>29</th>\n",
       "      <td>TSLA</td>\n",
       "      <td>0.05041</td>\n",
       "      <td>0.84675</td>\n",
       "      <td>0.10284</td>\n",
       "      <td>0.112058</td>\n",
       "      <td>Consumer Cyclical</td>\n",
       "      <td>Auto Manufacturers</td>\n",
       "      <td>908.61</td>\n",
       "      <td>1</td>\n",
       "      <td>908.61</td>\n",
       "    </tr>\n",
       "    <tr>\n",
       "      <th>30</th>\n",
       "      <td>UNH</td>\n",
       "      <td>0.03214</td>\n",
       "      <td>0.87089</td>\n",
       "      <td>0.09697</td>\n",
       "      <td>0.105174</td>\n",
       "      <td>Healthcare</td>\n",
       "      <td>Healthcare Plans</td>\n",
       "      <td>545.22</td>\n",
       "      <td>1</td>\n",
       "      <td>545.22</td>\n",
       "    </tr>\n",
       "    <tr>\n",
       "      <th>31</th>\n",
       "      <td>WBD</td>\n",
       "      <td>0.06302</td>\n",
       "      <td>0.85632</td>\n",
       "      <td>0.08068</td>\n",
       "      <td>0.041153</td>\n",
       "      <td>Communication Services</td>\n",
       "      <td>Entertainment</td>\n",
       "      <td>13.19</td>\n",
       "      <td>20</td>\n",
       "      <td>263.80</td>\n",
       "    </tr>\n",
       "    <tr>\n",
       "      <th>32</th>\n",
       "      <td>WMT</td>\n",
       "      <td>0.04987</td>\n",
       "      <td>0.83457</td>\n",
       "      <td>0.11556</td>\n",
       "      <td>0.112203</td>\n",
       "      <td>Consumer Defensive</td>\n",
       "      <td>Discount Stores</td>\n",
       "      <td>139.07</td>\n",
       "      <td>6</td>\n",
       "      <td>834.42</td>\n",
       "    </tr>\n",
       "    <tr>\n",
       "      <th>33</th>\n",
       "      <td>XOM</td>\n",
       "      <td>0.04224</td>\n",
       "      <td>0.83760</td>\n",
       "      <td>0.12017</td>\n",
       "      <td>0.119527</td>\n",
       "      <td>Energy</td>\n",
       "      <td>Oil &amp; Gas Integrated</td>\n",
       "      <td>94.38</td>\n",
       "      <td>5</td>\n",
       "      <td>471.90</td>\n",
       "    </tr>\n",
       "  </tbody>\n",
       "</table>\n",
       "</div>"
      ],
      "text/plain": [
       "   ticker  Negative  Neutral  Positive  Sentiment Score  \\\n",
       "0    AAPL   0.04600  0.88786   0.06614         0.045105   \n",
       "1     AIG   0.03390  0.85817   0.10794         0.116029   \n",
       "2     AMD   0.08752  0.81381   0.09868         0.040556   \n",
       "3    AMZN   0.07667  0.78021   0.14310         0.084955   \n",
       "4      BA   0.06676  0.80862   0.12465         0.089244   \n",
       "5     BAC   0.06079  0.87055   0.06865         0.020812   \n",
       "6   BRK-B   0.04808  0.85515   0.09676         0.077493   \n",
       "7       C   0.08289  0.85726   0.05985        -0.042347   \n",
       "8    CRWD   0.03986  0.82033   0.13979         0.158167   \n",
       "9     CVX   0.04751  0.82877   0.12371         0.124530   \n",
       "10   DDOG   0.02658  0.85316   0.12025         0.132228   \n",
       "11    DIS   0.05143  0.84438   0.10419         0.098045   \n",
       "12   GOOG   0.04519  0.85342   0.10138         0.096857   \n",
       "13    INT   0.02148  0.89749   0.08101         0.105958   \n",
       "14   INTC   0.09993  0.80251   0.09758         0.018154   \n",
       "15   ISRG   0.03453  0.81289   0.15257         0.192068   \n",
       "16    JNJ   0.06432  0.82329   0.11240         0.073712   \n",
       "17    JPM   0.06750  0.85262   0.07989         0.021636   \n",
       "18     KO   0.05318  0.83365   0.11315         0.103655   \n",
       "19    LMT   0.05994  0.81423   0.12584         0.111772   \n",
       "20   META   0.08444  0.81728   0.09826         0.017812   \n",
       "21    MMM   0.07373  0.82362   0.10265         0.042441   \n",
       "22   MSFT   0.07718  0.82524   0.09761         0.037550   \n",
       "23    PEP   0.03641  0.86680   0.09680         0.100216   \n",
       "24    PFE   0.06613  0.82667   0.10720         0.076161   \n",
       "25    PLD   0.03840  0.81927   0.14234         0.170365   \n",
       "26    SLB   0.04873  0.83892   0.11235         0.089273   \n",
       "27   SONY   0.07540  0.84213   0.08246         0.023862   \n",
       "28    SPG   0.02951  0.88102   0.08947         0.088671   \n",
       "29   TSLA   0.05041  0.84675   0.10284         0.112058   \n",
       "30    UNH   0.03214  0.87089   0.09697         0.105174   \n",
       "31    WBD   0.06302  0.85632   0.08068         0.041153   \n",
       "32    WMT   0.04987  0.83457   0.11556         0.112203   \n",
       "33    XOM   0.04224  0.83760   0.12017         0.119527   \n",
       "\n",
       "                    Sector                        Industry   Price  \\\n",
       "0               Technology            Consumer Electronics  174.15   \n",
       "1       Financial Services           Insurance—Diversified   57.33   \n",
       "2               Technology                  Semiconductors  100.44   \n",
       "3        Consumer Cyclical                 Internet Retail  142.30   \n",
       "4              Industrials             Aerospace & Defense  168.69   \n",
       "5       Financial Services               Banks—Diversified   36.28   \n",
       "6       Financial Services           Insurance—Diversified  304.27   \n",
       "7       Financial Services               Banks—Diversified   53.55   \n",
       "8               Technology         Software—Infrastructure  195.76   \n",
       "9                   Energy            Oil & Gas Integrated  159.02   \n",
       "10              Technology            Software—Application  109.45   \n",
       "11  Communication Services                   Entertainment  122.67   \n",
       "12  Communication Services  Internet Content & Information  120.86   \n",
       "13                  Energy  Oil & Gas Refining & Marketing   28.45   \n",
       "14              Technology                  Semiconductors   36.20   \n",
       "15              Healthcare  Medical Instruments & Supplies  229.59   \n",
       "16              Healthcare      Drug Manufacturers—General  166.77   \n",
       "17      Financial Services               Banks—Diversified  121.64   \n",
       "18      Consumer Defensive         Beverages—Non-Alcoholic   65.22   \n",
       "19             Industrials             Aerospace & Defense  439.35   \n",
       "20  Communication Services  Internet Content & Information  174.66   \n",
       "21             Industrials                   Conglomerates  146.68   \n",
       "22              Technology         Software—Infrastructure  290.17   \n",
       "23      Consumer Defensive         Beverages—Non-Alcoholic  180.40   \n",
       "24              Healthcare      Drug Manufacturers—General   48.58   \n",
       "25             Real Estate                 REIT—Industrial  136.63   \n",
       "26                  Energy  Oil & Gas Equipment & Services   37.13   \n",
       "27              Technology            Consumer Electronics   86.88   \n",
       "28             Real Estate                     REIT—Retail  113.33   \n",
       "29       Consumer Cyclical              Auto Manufacturers  908.61   \n",
       "30              Healthcare                Healthcare Plans  545.22   \n",
       "31  Communication Services                   Entertainment   13.19   \n",
       "32      Consumer Defensive                 Discount Stores  139.07   \n",
       "33                  Energy            Oil & Gas Integrated   94.38   \n",
       "\n",
       "    No. of Shares  Total Stock Value in Portfolio  \n",
       "0               6                         1044.90  \n",
       "1               5                          286.65  \n",
       "2               5                          502.20  \n",
       "3               5                          711.50  \n",
       "4               5                          843.45  \n",
       "5               5                          181.40  \n",
       "6               4                         1217.08  \n",
       "7               5                          267.75  \n",
       "8               3                          587.28  \n",
       "9               4                          636.08  \n",
       "10              3                          328.35  \n",
       "11              8                          981.36  \n",
       "12              3                          362.58  \n",
       "13             16                          455.20  \n",
       "14              5                          181.00  \n",
       "15              3                          688.77  \n",
       "16              3                          500.31  \n",
       "17              3                          364.92  \n",
       "18             10                          652.20  \n",
       "19              2                          878.70  \n",
       "20              3                          523.98  \n",
       "21              3                          440.04  \n",
       "22              5                         1450.85  \n",
       "23              5                          902.00  \n",
       "24             10                          485.80  \n",
       "25              5                          683.15  \n",
       "26             16                          594.08  \n",
       "27              5                          434.40  \n",
       "28             10                         1133.30  \n",
       "29              1                          908.61  \n",
       "30              1                          545.22  \n",
       "31             20                          263.80  \n",
       "32              6                          834.42  \n",
       "33              5                          471.90  "
      ]
     },
     "execution_count": 16,
     "metadata": {},
     "output_type": "execute_result"
    }
   ],
   "source": [
    "df = mean_scores.join(df_info)\n",
    "df = df.rename(columns={\"compound\": \"Sentiment Score\", \"neg\": \"Negative\", \"neu\": \"Neutral\", \"pos\": \"Positive\"})\n",
    "df = df.reset_index()\n",
    "df"
   ]
  },
  {
   "cell_type": "markdown",
   "id": "abb3b484",
   "metadata": {},
   "source": [
    "# Generate the Treemap Plot!"
   ]
  },
  {
   "cell_type": "code",
   "execution_count": null,
   "id": "dd54544b",
   "metadata": {},
   "outputs": [
    {
     "data": {
      "application/vnd.plotly.v1+json": {
       "config": {
        "plotlyServerURL": "https://plot.ly"
       },
       "data": [
        {
         "branchvalues": "total",
         "customdata": [
          [
           174.15,
           0.046,
           0.888,
           0.066,
           0.045
          ],
          [
           57.33,
           0.034,
           0.858,
           0.108,
           0.116
          ],
          [
           100.44,
           0.088,
           0.814,
           0.099,
           0.041
          ],
          [
           142.3,
           0.077,
           0.78,
           0.143,
           0.085
          ],
          [
           168.69,
           0.067,
           0.809,
           0.125,
           0.089
          ],
          [
           36.28,
           0.061,
           0.871,
           0.069,
           0.021
          ],
          [
           304.27,
           0.048,
           0.855,
           0.097,
           0.077
          ],
          [
           53.55,
           0.083,
           0.857,
           0.06,
           -0.042
          ],
          [
           195.76,
           0.04,
           0.82,
           0.14,
           0.158
          ],
          [
           159.02,
           0.048,
           0.829,
           0.124,
           0.125
          ],
          [
           109.45,
           0.027,
           0.853,
           0.12,
           0.132
          ],
          [
           122.67,
           0.051,
           0.844,
           0.104,
           0.098
          ],
          [
           120.86,
           0.045,
           0.853,
           0.101,
           0.097
          ],
          [
           28.45,
           0.021,
           0.897,
           0.081,
           0.106
          ],
          [
           36.2,
           0.1,
           0.803,
           0.098,
           0.018
          ],
          [
           229.59,
           0.035,
           0.813,
           0.153,
           0.192
          ],
          [
           166.77,
           0.064,
           0.823,
           0.112,
           0.074
          ],
          [
           121.64,
           0.068,
           0.853,
           0.08,
           0.022
          ],
          [
           65.22,
           0.053,
           0.834,
           0.113,
           0.104
          ],
          [
           439.35,
           0.06,
           0.814,
           0.126,
           0.112
          ],
          [
           174.66,
           0.084,
           0.817,
           0.098,
           0.018
          ],
          [
           146.68,
           0.074,
           0.824,
           0.103,
           0.042
          ],
          [
           290.17,
           0.077,
           0.825,
           0.098,
           0.038
          ],
          [
           180.4,
           0.036,
           0.867,
           0.097,
           0.1
          ],
          [
           48.58,
           0.066,
           0.827,
           0.107,
           0.076
          ],
          [
           136.63,
           0.038,
           0.819,
           0.142,
           0.17
          ],
          [
           37.13,
           0.049,
           0.839,
           0.112,
           0.089
          ],
          [
           86.88,
           0.075,
           0.842,
           0.082,
           0.024
          ],
          [
           113.33,
           0.03,
           0.881,
           0.089,
           0.089
          ],
          [
           908.61,
           0.05,
           0.847,
           0.103,
           0.112
          ],
          [
           545.22,
           0.032,
           0.871,
           0.097,
           0.105
          ],
          [
           13.19,
           0.063,
           0.856,
           0.081,
           0.041
          ],
          [
           139.07,
           0.05,
           0.835,
           0.116,
           0.112
          ],
          [
           94.38,
           0.042,
           0.838,
           0.12,
           0.12
          ]
         ],
         "domain": {
          "x": [
           0,
           1
          ],
          "y": [
           0,
           1
          ]
         },
         "hovertemplate": "labels=%{label}<br>Total Stock Value in Portfolio=%{value}<br>parent=%{parent}<br>id=%{id}<br>Price=%{customdata[0]}<br>Negative=%{customdata[1]}<br>Neutral=%{customdata[2]}<br>Positive=%{customdata[3]}<br>Sentiment Score=%{color}<extra></extra>",
         "ids": [
          "Sectors/Technology/Consumer Electronics/AAPL",
          "Sectors/Financial Services/Insurance—Diversified/AIG",
          "Sectors/Technology/Semiconductors/AMD",
          "Sectors/Consumer Cyclical/Internet Retail/AMZN",
          "Sectors/Industrials/Aerospace & Defense/BA",
          "Sectors/Financial Services/Banks—Diversified/BAC",
          "Sectors/Financial Services/Insurance—Diversified/BRK-B",
          "Sectors/Financial Services/Banks—Diversified/C",
          "Sectors/Technology/Software—Infrastructure/CRWD",
          "Sectors/Energy/Oil & Gas Integrated/CVX",
          "Sectors/Technology/Software—Application/DDOG",
          "Sectors/Communication Services/Entertainment/DIS",
          "Sectors/Communication Services/Internet Content & Information/GOOG",
          "Sectors/Energy/Oil & Gas Refining & Marketing/INT",
          "Sectors/Technology/Semiconductors/INTC",
          "Sectors/Healthcare/Medical Instruments & Supplies/ISRG",
          "Sectors/Healthcare/Drug Manufacturers—General/JNJ",
          "Sectors/Financial Services/Banks—Diversified/JPM",
          "Sectors/Consumer Defensive/Beverages—Non-Alcoholic/KO",
          "Sectors/Industrials/Aerospace & Defense/LMT",
          "Sectors/Communication Services/Internet Content & Information/META",
          "Sectors/Industrials/Conglomerates/MMM",
          "Sectors/Technology/Software—Infrastructure/MSFT",
          "Sectors/Consumer Defensive/Beverages—Non-Alcoholic/PEP",
          "Sectors/Healthcare/Drug Manufacturers—General/PFE",
          "Sectors/Real Estate/REIT—Industrial/PLD",
          "Sectors/Energy/Oil & Gas Equipment & Services/SLB",
          "Sectors/Technology/Consumer Electronics/SONY",
          "Sectors/Real Estate/REIT—Retail/SPG",
          "Sectors/Consumer Cyclical/Auto Manufacturers/TSLA",
          "Sectors/Healthcare/Healthcare Plans/UNH",
          "Sectors/Communication Services/Entertainment/WBD",
          "Sectors/Consumer Defensive/Discount Stores/WMT",
          "Sectors/Energy/Oil & Gas Integrated/XOM",
          "Sectors/Industrials/Aerospace & Defense",
          "Sectors/Consumer Cyclical/Auto Manufacturers",
          "Sectors/Financial Services/Banks—Diversified",
          "Sectors/Consumer Defensive/Beverages—Non-Alcoholic",
          "Sectors/Industrials/Conglomerates",
          "Sectors/Technology/Consumer Electronics",
          "Sectors/Consumer Defensive/Discount Stores",
          "Sectors/Healthcare/Drug Manufacturers—General",
          "Sectors/Communication Services/Entertainment",
          "Sectors/Healthcare/Healthcare Plans",
          "Sectors/Financial Services/Insurance—Diversified",
          "Sectors/Communication Services/Internet Content & Information",
          "Sectors/Consumer Cyclical/Internet Retail",
          "Sectors/Healthcare/Medical Instruments & Supplies",
          "Sectors/Energy/Oil & Gas Equipment & Services",
          "Sectors/Energy/Oil & Gas Integrated",
          "Sectors/Energy/Oil & Gas Refining & Marketing",
          "Sectors/Real Estate/REIT—Industrial",
          "Sectors/Real Estate/REIT—Retail",
          "Sectors/Technology/Semiconductors",
          "Sectors/Technology/Software—Application",
          "Sectors/Technology/Software—Infrastructure",
          "Sectors/Communication Services",
          "Sectors/Consumer Cyclical",
          "Sectors/Consumer Defensive",
          "Sectors/Energy",
          "Sectors/Financial Services",
          "Sectors/Healthcare",
          "Sectors/Industrials",
          "Sectors/Real Estate",
          "Sectors/Technology",
          "Sectors"
         ],
         "labels": [
          "AAPL",
          "AIG",
          "AMD",
          "AMZN",
          "BA",
          "BAC",
          "BRK-B",
          "C",
          "CRWD",
          "CVX",
          "DDOG",
          "DIS",
          "GOOG",
          "INT",
          "INTC",
          "ISRG",
          "JNJ",
          "JPM",
          "KO",
          "LMT",
          "META",
          "MMM",
          "MSFT",
          "PEP",
          "PFE",
          "PLD",
          "SLB",
          "SONY",
          "SPG",
          "TSLA",
          "UNH",
          "WBD",
          "WMT",
          "XOM",
          "Aerospace & Defense",
          "Auto Manufacturers",
          "Banks—Diversified",
          "Beverages—Non-Alcoholic",
          "Conglomerates",
          "Consumer Electronics",
          "Discount Stores",
          "Drug Manufacturers—General",
          "Entertainment",
          "Healthcare Plans",
          "Insurance—Diversified",
          "Internet Content & Information",
          "Internet Retail",
          "Medical Instruments & Supplies",
          "Oil & Gas Equipment & Services",
          "Oil & Gas Integrated",
          "Oil & Gas Refining & Marketing",
          "REIT—Industrial",
          "REIT—Retail",
          "Semiconductors",
          "Software—Application",
          "Software—Infrastructure",
          "Communication Services",
          "Consumer Cyclical",
          "Consumer Defensive",
          "Energy",
          "Financial Services",
          "Healthcare",
          "Industrials",
          "Real Estate",
          "Technology",
          "Sectors"
         ],
         "marker": {
          "coloraxis": "coloraxis",
          "colors": [
           0.045105000000000006,
           0.11602899999999998,
           0.040556,
           0.084955,
           0.089244,
           0.020812,
           0.07749299999999999,
           -0.042347,
           0.158167,
           0.12452999999999999,
           0.13222799999999998,
           0.098045,
           0.096857,
           0.10595800000000001,
           0.018154000000000003,
           0.19206800000000004,
           0.073712,
           0.021636000000000002,
           0.10365500000000001,
           0.11177200000000001,
           0.017812000000000005,
           0.042441000000000006,
           0.03755,
           0.10021600000000001,
           0.076161,
           0.170365,
           0.089273,
           0.023862,
           0.088671,
           0.112058,
           0.105174,
           0.041152999999999995,
           0.112203,
           0.119527,
           0.10073855831373574,
           0.112058,
           0.00040819176483594764,
           0.10165913202933986,
           0.042441000000000006,
           0.0388669419995944,
           0.112203,
           0.07491848223828985,
           0.0859918424941373,
           0.105174,
           0.08483896263956958,
           0.05013935077152139,
           0.084955,
           0.19206800000000004,
           0.089273,
           0.1223991711944259,
           0.10595800000000001,
           0.170365,
           0.088671,
           0.034621043911007024,
           0.13222799999999998,
           0.07230536484915093,
           0.07108116704820519,
           0.10015523753325391,
           0.10534243632725172,
           0.1098074497927927,
           0.055184739822245234,
           0.11869353144452956,
           0.08887407944722713,
           0.11939535580390323,
           0.060043047564793846,
           0.08783509887069574
          ]
         },
         "name": "",
         "parents": [
          "Sectors/Technology/Consumer Electronics",
          "Sectors/Financial Services/Insurance—Diversified",
          "Sectors/Technology/Semiconductors",
          "Sectors/Consumer Cyclical/Internet Retail",
          "Sectors/Industrials/Aerospace & Defense",
          "Sectors/Financial Services/Banks—Diversified",
          "Sectors/Financial Services/Insurance—Diversified",
          "Sectors/Financial Services/Banks—Diversified",
          "Sectors/Technology/Software—Infrastructure",
          "Sectors/Energy/Oil & Gas Integrated",
          "Sectors/Technology/Software—Application",
          "Sectors/Communication Services/Entertainment",
          "Sectors/Communication Services/Internet Content & Information",
          "Sectors/Energy/Oil & Gas Refining & Marketing",
          "Sectors/Technology/Semiconductors",
          "Sectors/Healthcare/Medical Instruments & Supplies",
          "Sectors/Healthcare/Drug Manufacturers—General",
          "Sectors/Financial Services/Banks—Diversified",
          "Sectors/Consumer Defensive/Beverages—Non-Alcoholic",
          "Sectors/Industrials/Aerospace & Defense",
          "Sectors/Communication Services/Internet Content & Information",
          "Sectors/Industrials/Conglomerates",
          "Sectors/Technology/Software—Infrastructure",
          "Sectors/Consumer Defensive/Beverages—Non-Alcoholic",
          "Sectors/Healthcare/Drug Manufacturers—General",
          "Sectors/Real Estate/REIT—Industrial",
          "Sectors/Energy/Oil & Gas Equipment & Services",
          "Sectors/Technology/Consumer Electronics",
          "Sectors/Real Estate/REIT—Retail",
          "Sectors/Consumer Cyclical/Auto Manufacturers",
          "Sectors/Healthcare/Healthcare Plans",
          "Sectors/Communication Services/Entertainment",
          "Sectors/Consumer Defensive/Discount Stores",
          "Sectors/Energy/Oil & Gas Integrated",
          "Sectors/Industrials",
          "Sectors/Consumer Cyclical",
          "Sectors/Financial Services",
          "Sectors/Consumer Defensive",
          "Sectors/Industrials",
          "Sectors/Technology",
          "Sectors/Consumer Defensive",
          "Sectors/Healthcare",
          "Sectors/Communication Services",
          "Sectors/Healthcare",
          "Sectors/Financial Services",
          "Sectors/Communication Services",
          "Sectors/Consumer Cyclical",
          "Sectors/Healthcare",
          "Sectors/Energy",
          "Sectors/Energy",
          "Sectors/Energy",
          "Sectors/Real Estate",
          "Sectors/Real Estate",
          "Sectors/Technology",
          "Sectors/Technology",
          "Sectors/Technology",
          "Sectors",
          "Sectors",
          "Sectors",
          "Sectors",
          "Sectors",
          "Sectors",
          "Sectors",
          "Sectors",
          "Sectors",
          ""
         ],
         "textposition": "middle center",
         "texttemplate": "%{label}<br>%{customdata[4]}",
         "type": "treemap",
         "values": [
          1044.9,
          286.65,
          502.2,
          711.5,
          843.45,
          181.4,
          1217.08,
          267.75,
          587.28,
          636.08,
          328.35,
          981.36,
          362.58,
          455.2,
          181,
          688.77,
          500.31000000000006,
          364.92,
          652.2,
          878.7,
          523.98,
          440.04,
          1450.8500000000001,
          902,
          485.79999999999995,
          683.15,
          594.08,
          434.4,
          1133.3,
          908.61,
          545.22,
          263.8,
          834.42,
          471.9,
          1722.15,
          908.61,
          814.0699999999999,
          1554.2,
          440.04,
          1479.3000000000002,
          834.42,
          986.11,
          1245.16,
          545.22,
          1503.73,
          886.56,
          711.5,
          688.77,
          594.08,
          1107.98,
          455.2,
          683.15,
          1133.3,
          683.2,
          328.35,
          2038.13,
          2131.7200000000003,
          1620.1100000000001,
          2388.62,
          2157.26,
          2317.7999999999997,
          2220.1,
          2162.19,
          1816.4499999999998,
          4528.9800000000005,
          21343.23
         ]
        }
       ],
       "layout": {
        "coloraxis": {
         "cmid": 0,
         "colorbar": {
          "title": {
           "text": "Sentiment Score"
          }
         },
         "colorscale": [
          [
           0,
           "#FF0000"
          ],
          [
           0.5,
           "#000000"
          ],
          [
           1,
           "#00FF00"
          ]
         ]
        },
        "font": {
         "size": 20
        },
        "legend": {
         "tracegroupgap": 0
        },
        "margin": {
         "b": 10,
         "l": 10,
         "r": 10,
         "t": 30
        },
        "template": {
         "data": {
          "bar": [
           {
            "error_x": {
             "color": "#2a3f5f"
            },
            "error_y": {
             "color": "#2a3f5f"
            },
            "marker": {
             "line": {
              "color": "#E5ECF6",
              "width": 0.5
             },
             "pattern": {
              "fillmode": "overlay",
              "size": 10,
              "solidity": 0.2
             }
            },
            "type": "bar"
           }
          ],
          "barpolar": [
           {
            "marker": {
             "line": {
              "color": "#E5ECF6",
              "width": 0.5
             },
             "pattern": {
              "fillmode": "overlay",
              "size": 10,
              "solidity": 0.2
             }
            },
            "type": "barpolar"
           }
          ],
          "carpet": [
           {
            "aaxis": {
             "endlinecolor": "#2a3f5f",
             "gridcolor": "white",
             "linecolor": "white",
             "minorgridcolor": "white",
             "startlinecolor": "#2a3f5f"
            },
            "baxis": {
             "endlinecolor": "#2a3f5f",
             "gridcolor": "white",
             "linecolor": "white",
             "minorgridcolor": "white",
             "startlinecolor": "#2a3f5f"
            },
            "type": "carpet"
           }
          ],
          "choropleth": [
           {
            "colorbar": {
             "outlinewidth": 0,
             "ticks": ""
            },
            "type": "choropleth"
           }
          ],
          "contour": [
           {
            "colorbar": {
             "outlinewidth": 0,
             "ticks": ""
            },
            "colorscale": [
             [
              0,
              "#0d0887"
             ],
             [
              0.1111111111111111,
              "#46039f"
             ],
             [
              0.2222222222222222,
              "#7201a8"
             ],
             [
              0.3333333333333333,
              "#9c179e"
             ],
             [
              0.4444444444444444,
              "#bd3786"
             ],
             [
              0.5555555555555556,
              "#d8576b"
             ],
             [
              0.6666666666666666,
              "#ed7953"
             ],
             [
              0.7777777777777778,
              "#fb9f3a"
             ],
             [
              0.8888888888888888,
              "#fdca26"
             ],
             [
              1,
              "#f0f921"
             ]
            ],
            "type": "contour"
           }
          ],
          "contourcarpet": [
           {
            "colorbar": {
             "outlinewidth": 0,
             "ticks": ""
            },
            "type": "contourcarpet"
           }
          ],
          "heatmap": [
           {
            "colorbar": {
             "outlinewidth": 0,
             "ticks": ""
            },
            "colorscale": [
             [
              0,
              "#0d0887"
             ],
             [
              0.1111111111111111,
              "#46039f"
             ],
             [
              0.2222222222222222,
              "#7201a8"
             ],
             [
              0.3333333333333333,
              "#9c179e"
             ],
             [
              0.4444444444444444,
              "#bd3786"
             ],
             [
              0.5555555555555556,
              "#d8576b"
             ],
             [
              0.6666666666666666,
              "#ed7953"
             ],
             [
              0.7777777777777778,
              "#fb9f3a"
             ],
             [
              0.8888888888888888,
              "#fdca26"
             ],
             [
              1,
              "#f0f921"
             ]
            ],
            "type": "heatmap"
           }
          ],
          "heatmapgl": [
           {
            "colorbar": {
             "outlinewidth": 0,
             "ticks": ""
            },
            "colorscale": [
             [
              0,
              "#0d0887"
             ],
             [
              0.1111111111111111,
              "#46039f"
             ],
             [
              0.2222222222222222,
              "#7201a8"
             ],
             [
              0.3333333333333333,
              "#9c179e"
             ],
             [
              0.4444444444444444,
              "#bd3786"
             ],
             [
              0.5555555555555556,
              "#d8576b"
             ],
             [
              0.6666666666666666,
              "#ed7953"
             ],
             [
              0.7777777777777778,
              "#fb9f3a"
             ],
             [
              0.8888888888888888,
              "#fdca26"
             ],
             [
              1,
              "#f0f921"
             ]
            ],
            "type": "heatmapgl"
           }
          ],
          "histogram": [
           {
            "marker": {
             "pattern": {
              "fillmode": "overlay",
              "size": 10,
              "solidity": 0.2
             }
            },
            "type": "histogram"
           }
          ],
          "histogram2d": [
           {
            "colorbar": {
             "outlinewidth": 0,
             "ticks": ""
            },
            "colorscale": [
             [
              0,
              "#0d0887"
             ],
             [
              0.1111111111111111,
              "#46039f"
             ],
             [
              0.2222222222222222,
              "#7201a8"
             ],
             [
              0.3333333333333333,
              "#9c179e"
             ],
             [
              0.4444444444444444,
              "#bd3786"
             ],
             [
              0.5555555555555556,
              "#d8576b"
             ],
             [
              0.6666666666666666,
              "#ed7953"
             ],
             [
              0.7777777777777778,
              "#fb9f3a"
             ],
             [
              0.8888888888888888,
              "#fdca26"
             ],
             [
              1,
              "#f0f921"
             ]
            ],
            "type": "histogram2d"
           }
          ],
          "histogram2dcontour": [
           {
            "colorbar": {
             "outlinewidth": 0,
             "ticks": ""
            },
            "colorscale": [
             [
              0,
              "#0d0887"
             ],
             [
              0.1111111111111111,
              "#46039f"
             ],
             [
              0.2222222222222222,
              "#7201a8"
             ],
             [
              0.3333333333333333,
              "#9c179e"
             ],
             [
              0.4444444444444444,
              "#bd3786"
             ],
             [
              0.5555555555555556,
              "#d8576b"
             ],
             [
              0.6666666666666666,
              "#ed7953"
             ],
             [
              0.7777777777777778,
              "#fb9f3a"
             ],
             [
              0.8888888888888888,
              "#fdca26"
             ],
             [
              1,
              "#f0f921"
             ]
            ],
            "type": "histogram2dcontour"
           }
          ],
          "mesh3d": [
           {
            "colorbar": {
             "outlinewidth": 0,
             "ticks": ""
            },
            "type": "mesh3d"
           }
          ],
          "parcoords": [
           {
            "line": {
             "colorbar": {
              "outlinewidth": 0,
              "ticks": ""
             }
            },
            "type": "parcoords"
           }
          ],
          "pie": [
           {
            "automargin": true,
            "type": "pie"
           }
          ],
          "scatter": [
           {
            "fillpattern": {
             "fillmode": "overlay",
             "size": 10,
             "solidity": 0.2
            },
            "type": "scatter"
           }
          ],
          "scatter3d": [
           {
            "line": {
             "colorbar": {
              "outlinewidth": 0,
              "ticks": ""
             }
            },
            "marker": {
             "colorbar": {
              "outlinewidth": 0,
              "ticks": ""
             }
            },
            "type": "scatter3d"
           }
          ],
          "scattercarpet": [
           {
            "marker": {
             "colorbar": {
              "outlinewidth": 0,
              "ticks": ""
             }
            },
            "type": "scattercarpet"
           }
          ],
          "scattergeo": [
           {
            "marker": {
             "colorbar": {
              "outlinewidth": 0,
              "ticks": ""
             }
            },
            "type": "scattergeo"
           }
          ],
          "scattergl": [
           {
            "marker": {
             "colorbar": {
              "outlinewidth": 0,
              "ticks": ""
             }
            },
            "type": "scattergl"
           }
          ],
          "scattermapbox": [
           {
            "marker": {
             "colorbar": {
              "outlinewidth": 0,
              "ticks": ""
             }
            },
            "type": "scattermapbox"
           }
          ],
          "scatterpolar": [
           {
            "marker": {
             "colorbar": {
              "outlinewidth": 0,
              "ticks": ""
             }
            },
            "type": "scatterpolar"
           }
          ],
          "scatterpolargl": [
           {
            "marker": {
             "colorbar": {
              "outlinewidth": 0,
              "ticks": ""
             }
            },
            "type": "scatterpolargl"
           }
          ],
          "scatterternary": [
           {
            "marker": {
             "colorbar": {
              "outlinewidth": 0,
              "ticks": ""
             }
            },
            "type": "scatterternary"
           }
          ],
          "surface": [
           {
            "colorbar": {
             "outlinewidth": 0,
             "ticks": ""
            },
            "colorscale": [
             [
              0,
              "#0d0887"
             ],
             [
              0.1111111111111111,
              "#46039f"
             ],
             [
              0.2222222222222222,
              "#7201a8"
             ],
             [
              0.3333333333333333,
              "#9c179e"
             ],
             [
              0.4444444444444444,
              "#bd3786"
             ],
             [
              0.5555555555555556,
              "#d8576b"
             ],
             [
              0.6666666666666666,
              "#ed7953"
             ],
             [
              0.7777777777777778,
              "#fb9f3a"
             ],
             [
              0.8888888888888888,
              "#fdca26"
             ],
             [
              1,
              "#f0f921"
             ]
            ],
            "type": "surface"
           }
          ],
          "table": [
           {
            "cells": {
             "fill": {
              "color": "#EBF0F8"
             },
             "line": {
              "color": "white"
             }
            },
            "header": {
             "fill": {
              "color": "#C8D4E3"
             },
             "line": {
              "color": "white"
             }
            },
            "type": "table"
           }
          ]
         },
         "layout": {
          "annotationdefaults": {
           "arrowcolor": "#2a3f5f",
           "arrowhead": 0,
           "arrowwidth": 1
          },
          "autotypenumbers": "strict",
          "coloraxis": {
           "colorbar": {
            "outlinewidth": 0,
            "ticks": ""
           }
          },
          "colorscale": {
           "diverging": [
            [
             0,
             "#8e0152"
            ],
            [
             0.1,
             "#c51b7d"
            ],
            [
             0.2,
             "#de77ae"
            ],
            [
             0.3,
             "#f1b6da"
            ],
            [
             0.4,
             "#fde0ef"
            ],
            [
             0.5,
             "#f7f7f7"
            ],
            [
             0.6,
             "#e6f5d0"
            ],
            [
             0.7,
             "#b8e186"
            ],
            [
             0.8,
             "#7fbc41"
            ],
            [
             0.9,
             "#4d9221"
            ],
            [
             1,
             "#276419"
            ]
           ],
           "sequential": [
            [
             0,
             "#0d0887"
            ],
            [
             0.1111111111111111,
             "#46039f"
            ],
            [
             0.2222222222222222,
             "#7201a8"
            ],
            [
             0.3333333333333333,
             "#9c179e"
            ],
            [
             0.4444444444444444,
             "#bd3786"
            ],
            [
             0.5555555555555556,
             "#d8576b"
            ],
            [
             0.6666666666666666,
             "#ed7953"
            ],
            [
             0.7777777777777778,
             "#fb9f3a"
            ],
            [
             0.8888888888888888,
             "#fdca26"
            ],
            [
             1,
             "#f0f921"
            ]
           ],
           "sequentialminus": [
            [
             0,
             "#0d0887"
            ],
            [
             0.1111111111111111,
             "#46039f"
            ],
            [
             0.2222222222222222,
             "#7201a8"
            ],
            [
             0.3333333333333333,
             "#9c179e"
            ],
            [
             0.4444444444444444,
             "#bd3786"
            ],
            [
             0.5555555555555556,
             "#d8576b"
            ],
            [
             0.6666666666666666,
             "#ed7953"
            ],
            [
             0.7777777777777778,
             "#fb9f3a"
            ],
            [
             0.8888888888888888,
             "#fdca26"
            ],
            [
             1,
             "#f0f921"
            ]
           ]
          },
          "colorway": [
           "#636efa",
           "#EF553B",
           "#00cc96",
           "#ab63fa",
           "#FFA15A",
           "#19d3f3",
           "#FF6692",
           "#B6E880",
           "#FF97FF",
           "#FECB52"
          ],
          "font": {
           "color": "#2a3f5f"
          },
          "geo": {
           "bgcolor": "white",
           "lakecolor": "white",
           "landcolor": "#E5ECF6",
           "showlakes": true,
           "showland": true,
           "subunitcolor": "white"
          },
          "hoverlabel": {
           "align": "left"
          },
          "hovermode": "closest",
          "mapbox": {
           "style": "light"
          },
          "paper_bgcolor": "white",
          "plot_bgcolor": "#E5ECF6",
          "polar": {
           "angularaxis": {
            "gridcolor": "white",
            "linecolor": "white",
            "ticks": ""
           },
           "bgcolor": "#E5ECF6",
           "radialaxis": {
            "gridcolor": "white",
            "linecolor": "white",
            "ticks": ""
           }
          },
          "scene": {
           "xaxis": {
            "backgroundcolor": "#E5ECF6",
            "gridcolor": "white",
            "gridwidth": 2,
            "linecolor": "white",
            "showbackground": true,
            "ticks": "",
            "zerolinecolor": "white"
           },
           "yaxis": {
            "backgroundcolor": "#E5ECF6",
            "gridcolor": "white",
            "gridwidth": 2,
            "linecolor": "white",
            "showbackground": true,
            "ticks": "",
            "zerolinecolor": "white"
           },
           "zaxis": {
            "backgroundcolor": "#E5ECF6",
            "gridcolor": "white",
            "gridwidth": 2,
            "linecolor": "white",
            "showbackground": true,
            "ticks": "",
            "zerolinecolor": "white"
           }
          },
          "shapedefaults": {
           "line": {
            "color": "#2a3f5f"
           }
          },
          "ternary": {
           "aaxis": {
            "gridcolor": "white",
            "linecolor": "white",
            "ticks": ""
           },
           "baxis": {
            "gridcolor": "white",
            "linecolor": "white",
            "ticks": ""
           },
           "bgcolor": "#E5ECF6",
           "caxis": {
            "gridcolor": "white",
            "linecolor": "white",
            "ticks": ""
           }
          },
          "title": {
           "x": 0.05
          },
          "xaxis": {
           "automargin": true,
           "gridcolor": "white",
           "linecolor": "white",
           "ticks": "",
           "title": {
            "standoff": 15
           },
           "zerolinecolor": "white",
           "zerolinewidth": 2
          },
          "yaxis": {
           "automargin": true,
           "gridcolor": "white",
           "linecolor": "white",
           "ticks": "",
           "title": {
            "standoff": 15
           },
           "zerolinecolor": "white",
           "zerolinewidth": 2
          }
         }
        }
       }
      },
      "text/html": [
       "<div>                            <div id=\"fc017a2a-8a68-4e94-998e-9b55712be424\" class=\"plotly-graph-div\" style=\"height:525px; width:100%;\"></div>            <script type=\"text/javascript\">                require([\"plotly\"], function(Plotly) {                    window.PLOTLYENV=window.PLOTLYENV || {};                                    if (document.getElementById(\"fc017a2a-8a68-4e94-998e-9b55712be424\")) {                    Plotly.newPlot(                        \"fc017a2a-8a68-4e94-998e-9b55712be424\",                        [{\"branchvalues\":\"total\",\"customdata\":[[174.15,0.046,0.888,0.066,0.045],[57.33,0.034,0.858,0.108,0.116],[100.44,0.088,0.814,0.099,0.041],[142.3,0.077,0.78,0.143,0.085],[168.69,0.067,0.809,0.125,0.089],[36.28,0.061,0.871,0.069,0.021],[304.27,0.048,0.855,0.097,0.077],[53.55,0.083,0.857,0.06,-0.042],[195.76,0.04,0.82,0.14,0.158],[159.02,0.048,0.829,0.124,0.125],[109.45,0.027,0.853,0.12,0.132],[122.67,0.051,0.844,0.104,0.098],[120.86,0.045,0.853,0.101,0.097],[28.45,0.021,0.897,0.081,0.106],[36.2,0.1,0.803,0.098,0.018],[229.59,0.035,0.813,0.153,0.192],[166.77,0.064,0.823,0.112,0.074],[121.64,0.068,0.853,0.08,0.022],[65.22,0.053,0.834,0.113,0.104],[439.35,0.06,0.814,0.126,0.112],[174.66,0.084,0.817,0.098,0.018],[146.68,0.074,0.824,0.103,0.042],[290.17,0.077,0.825,0.098,0.038],[180.4,0.036,0.867,0.097,0.1],[48.58,0.066,0.827,0.107,0.076],[136.63,0.038,0.819,0.142,0.17],[37.13,0.049,0.839,0.112,0.089],[86.88,0.075,0.842,0.082,0.024],[113.33,0.03,0.881,0.089,0.089],[908.61,0.05,0.847,0.103,0.112],[545.22,0.032,0.871,0.097,0.105],[13.19,0.063,0.856,0.081,0.041],[139.07,0.05,0.835,0.116,0.112],[94.38,0.042,0.838,0.12,0.12]],\"domain\":{\"x\":[0.0,1.0],\"y\":[0.0,1.0]},\"hovertemplate\":\"labels=%{label}<br>Total Stock Value in Portfolio=%{value}<br>parent=%{parent}<br>id=%{id}<br>Price=%{customdata[0]}<br>Negative=%{customdata[1]}<br>Neutral=%{customdata[2]}<br>Positive=%{customdata[3]}<br>Sentiment Score=%{color}<extra></extra>\",\"ids\":[\"Sectors/Technology/Consumer Electronics/AAPL\",\"Sectors/Financial Services/Insurance\\u2014Diversified/AIG\",\"Sectors/Technology/Semiconductors/AMD\",\"Sectors/Consumer Cyclical/Internet Retail/AMZN\",\"Sectors/Industrials/Aerospace & Defense/BA\",\"Sectors/Financial Services/Banks\\u2014Diversified/BAC\",\"Sectors/Financial Services/Insurance\\u2014Diversified/BRK-B\",\"Sectors/Financial Services/Banks\\u2014Diversified/C\",\"Sectors/Technology/Software\\u2014Infrastructure/CRWD\",\"Sectors/Energy/Oil & Gas Integrated/CVX\",\"Sectors/Technology/Software\\u2014Application/DDOG\",\"Sectors/Communication Services/Entertainment/DIS\",\"Sectors/Communication Services/Internet Content & Information/GOOG\",\"Sectors/Energy/Oil & Gas Refining & Marketing/INT\",\"Sectors/Technology/Semiconductors/INTC\",\"Sectors/Healthcare/Medical Instruments & Supplies/ISRG\",\"Sectors/Healthcare/Drug Manufacturers\\u2014General/JNJ\",\"Sectors/Financial Services/Banks\\u2014Diversified/JPM\",\"Sectors/Consumer Defensive/Beverages\\u2014Non-Alcoholic/KO\",\"Sectors/Industrials/Aerospace & Defense/LMT\",\"Sectors/Communication Services/Internet Content & Information/META\",\"Sectors/Industrials/Conglomerates/MMM\",\"Sectors/Technology/Software\\u2014Infrastructure/MSFT\",\"Sectors/Consumer Defensive/Beverages\\u2014Non-Alcoholic/PEP\",\"Sectors/Healthcare/Drug Manufacturers\\u2014General/PFE\",\"Sectors/Real Estate/REIT\\u2014Industrial/PLD\",\"Sectors/Energy/Oil & Gas Equipment & Services/SLB\",\"Sectors/Technology/Consumer Electronics/SONY\",\"Sectors/Real Estate/REIT\\u2014Retail/SPG\",\"Sectors/Consumer Cyclical/Auto Manufacturers/TSLA\",\"Sectors/Healthcare/Healthcare Plans/UNH\",\"Sectors/Communication Services/Entertainment/WBD\",\"Sectors/Consumer Defensive/Discount Stores/WMT\",\"Sectors/Energy/Oil & Gas Integrated/XOM\",\"Sectors/Industrials/Aerospace & Defense\",\"Sectors/Consumer Cyclical/Auto Manufacturers\",\"Sectors/Financial Services/Banks\\u2014Diversified\",\"Sectors/Consumer Defensive/Beverages\\u2014Non-Alcoholic\",\"Sectors/Industrials/Conglomerates\",\"Sectors/Technology/Consumer Electronics\",\"Sectors/Consumer Defensive/Discount Stores\",\"Sectors/Healthcare/Drug Manufacturers\\u2014General\",\"Sectors/Communication Services/Entertainment\",\"Sectors/Healthcare/Healthcare Plans\",\"Sectors/Financial Services/Insurance\\u2014Diversified\",\"Sectors/Communication Services/Internet Content & Information\",\"Sectors/Consumer Cyclical/Internet Retail\",\"Sectors/Healthcare/Medical Instruments & Supplies\",\"Sectors/Energy/Oil & Gas Equipment & Services\",\"Sectors/Energy/Oil & Gas Integrated\",\"Sectors/Energy/Oil & Gas Refining & Marketing\",\"Sectors/Real Estate/REIT\\u2014Industrial\",\"Sectors/Real Estate/REIT\\u2014Retail\",\"Sectors/Technology/Semiconductors\",\"Sectors/Technology/Software\\u2014Application\",\"Sectors/Technology/Software\\u2014Infrastructure\",\"Sectors/Communication Services\",\"Sectors/Consumer Cyclical\",\"Sectors/Consumer Defensive\",\"Sectors/Energy\",\"Sectors/Financial Services\",\"Sectors/Healthcare\",\"Sectors/Industrials\",\"Sectors/Real Estate\",\"Sectors/Technology\",\"Sectors\"],\"labels\":[\"AAPL\",\"AIG\",\"AMD\",\"AMZN\",\"BA\",\"BAC\",\"BRK-B\",\"C\",\"CRWD\",\"CVX\",\"DDOG\",\"DIS\",\"GOOG\",\"INT\",\"INTC\",\"ISRG\",\"JNJ\",\"JPM\",\"KO\",\"LMT\",\"META\",\"MMM\",\"MSFT\",\"PEP\",\"PFE\",\"PLD\",\"SLB\",\"SONY\",\"SPG\",\"TSLA\",\"UNH\",\"WBD\",\"WMT\",\"XOM\",\"Aerospace & Defense\",\"Auto Manufacturers\",\"Banks\\u2014Diversified\",\"Beverages\\u2014Non-Alcoholic\",\"Conglomerates\",\"Consumer Electronics\",\"Discount Stores\",\"Drug Manufacturers\\u2014General\",\"Entertainment\",\"Healthcare Plans\",\"Insurance\\u2014Diversified\",\"Internet Content & Information\",\"Internet Retail\",\"Medical Instruments & Supplies\",\"Oil & Gas Equipment & Services\",\"Oil & Gas Integrated\",\"Oil & Gas Refining & Marketing\",\"REIT\\u2014Industrial\",\"REIT\\u2014Retail\",\"Semiconductors\",\"Software\\u2014Application\",\"Software\\u2014Infrastructure\",\"Communication Services\",\"Consumer Cyclical\",\"Consumer Defensive\",\"Energy\",\"Financial Services\",\"Healthcare\",\"Industrials\",\"Real Estate\",\"Technology\",\"Sectors\"],\"marker\":{\"coloraxis\":\"coloraxis\",\"colors\":[0.045105000000000006,0.11602899999999998,0.040556,0.084955,0.089244,0.020812,0.07749299999999999,-0.042347,0.158167,0.12452999999999999,0.13222799999999998,0.098045,0.096857,0.10595800000000001,0.018154000000000003,0.19206800000000004,0.073712,0.021636000000000002,0.10365500000000001,0.11177200000000001,0.017812000000000005,0.042441000000000006,0.03755,0.10021600000000001,0.076161,0.170365,0.089273,0.023862,0.088671,0.112058,0.105174,0.041152999999999995,0.112203,0.119527,0.10073855831373574,0.112058,0.00040819176483594764,0.10165913202933986,0.042441000000000006,0.0388669419995944,0.112203,0.07491848223828985,0.0859918424941373,0.105174,0.08483896263956958,0.05013935077152139,0.084955,0.19206800000000004,0.089273,0.1223991711944259,0.10595800000000001,0.170365,0.088671,0.034621043911007024,0.13222799999999998,0.07230536484915093,0.07108116704820519,0.10015523753325391,0.10534243632725172,0.1098074497927927,0.055184739822245234,0.11869353144452956,0.08887407944722713,0.11939535580390323,0.060043047564793846,0.08783509887069574]},\"name\":\"\",\"parents\":[\"Sectors/Technology/Consumer Electronics\",\"Sectors/Financial Services/Insurance\\u2014Diversified\",\"Sectors/Technology/Semiconductors\",\"Sectors/Consumer Cyclical/Internet Retail\",\"Sectors/Industrials/Aerospace & Defense\",\"Sectors/Financial Services/Banks\\u2014Diversified\",\"Sectors/Financial Services/Insurance\\u2014Diversified\",\"Sectors/Financial Services/Banks\\u2014Diversified\",\"Sectors/Technology/Software\\u2014Infrastructure\",\"Sectors/Energy/Oil & Gas Integrated\",\"Sectors/Technology/Software\\u2014Application\",\"Sectors/Communication Services/Entertainment\",\"Sectors/Communication Services/Internet Content & Information\",\"Sectors/Energy/Oil & Gas Refining & Marketing\",\"Sectors/Technology/Semiconductors\",\"Sectors/Healthcare/Medical Instruments & Supplies\",\"Sectors/Healthcare/Drug Manufacturers\\u2014General\",\"Sectors/Financial Services/Banks\\u2014Diversified\",\"Sectors/Consumer Defensive/Beverages\\u2014Non-Alcoholic\",\"Sectors/Industrials/Aerospace & Defense\",\"Sectors/Communication Services/Internet Content & Information\",\"Sectors/Industrials/Conglomerates\",\"Sectors/Technology/Software\\u2014Infrastructure\",\"Sectors/Consumer Defensive/Beverages\\u2014Non-Alcoholic\",\"Sectors/Healthcare/Drug Manufacturers\\u2014General\",\"Sectors/Real Estate/REIT\\u2014Industrial\",\"Sectors/Energy/Oil & Gas Equipment & Services\",\"Sectors/Technology/Consumer Electronics\",\"Sectors/Real Estate/REIT\\u2014Retail\",\"Sectors/Consumer Cyclical/Auto Manufacturers\",\"Sectors/Healthcare/Healthcare Plans\",\"Sectors/Communication Services/Entertainment\",\"Sectors/Consumer Defensive/Discount Stores\",\"Sectors/Energy/Oil & Gas Integrated\",\"Sectors/Industrials\",\"Sectors/Consumer Cyclical\",\"Sectors/Financial Services\",\"Sectors/Consumer Defensive\",\"Sectors/Industrials\",\"Sectors/Technology\",\"Sectors/Consumer Defensive\",\"Sectors/Healthcare\",\"Sectors/Communication Services\",\"Sectors/Healthcare\",\"Sectors/Financial Services\",\"Sectors/Communication Services\",\"Sectors/Consumer Cyclical\",\"Sectors/Healthcare\",\"Sectors/Energy\",\"Sectors/Energy\",\"Sectors/Energy\",\"Sectors/Real Estate\",\"Sectors/Real Estate\",\"Sectors/Technology\",\"Sectors/Technology\",\"Sectors/Technology\",\"Sectors\",\"Sectors\",\"Sectors\",\"Sectors\",\"Sectors\",\"Sectors\",\"Sectors\",\"Sectors\",\"Sectors\",\"\"],\"values\":[1044.9,286.65,502.2,711.5,843.45,181.4,1217.08,267.75,587.28,636.08,328.35,981.36,362.58,455.2,181.0,688.77,500.31000000000006,364.92,652.2,878.7,523.98,440.04,1450.8500000000001,902.0,485.79999999999995,683.15,594.08,434.4,1133.3,908.61,545.22,263.8,834.42,471.9,1722.15,908.61,814.0699999999999,1554.2,440.04,1479.3000000000002,834.42,986.11,1245.16,545.22,1503.73,886.56,711.5,688.77,594.08,1107.98,455.2,683.15,1133.3,683.2,328.35,2038.13,2131.7200000000003,1620.1100000000001,2388.62,2157.26,2317.7999999999997,2220.1,2162.19,1816.4499999999998,4528.9800000000005,21343.23],\"type\":\"treemap\",\"texttemplate\":\"%{label}<br>%{customdata[4]}\",\"textposition\":\"middle center\"}],                        {\"template\":{\"data\":{\"histogram2dcontour\":[{\"type\":\"histogram2dcontour\",\"colorbar\":{\"outlinewidth\":0,\"ticks\":\"\"},\"colorscale\":[[0.0,\"#0d0887\"],[0.1111111111111111,\"#46039f\"],[0.2222222222222222,\"#7201a8\"],[0.3333333333333333,\"#9c179e\"],[0.4444444444444444,\"#bd3786\"],[0.5555555555555556,\"#d8576b\"],[0.6666666666666666,\"#ed7953\"],[0.7777777777777778,\"#fb9f3a\"],[0.8888888888888888,\"#fdca26\"],[1.0,\"#f0f921\"]]}],\"choropleth\":[{\"type\":\"choropleth\",\"colorbar\":{\"outlinewidth\":0,\"ticks\":\"\"}}],\"histogram2d\":[{\"type\":\"histogram2d\",\"colorbar\":{\"outlinewidth\":0,\"ticks\":\"\"},\"colorscale\":[[0.0,\"#0d0887\"],[0.1111111111111111,\"#46039f\"],[0.2222222222222222,\"#7201a8\"],[0.3333333333333333,\"#9c179e\"],[0.4444444444444444,\"#bd3786\"],[0.5555555555555556,\"#d8576b\"],[0.6666666666666666,\"#ed7953\"],[0.7777777777777778,\"#fb9f3a\"],[0.8888888888888888,\"#fdca26\"],[1.0,\"#f0f921\"]]}],\"heatmap\":[{\"type\":\"heatmap\",\"colorbar\":{\"outlinewidth\":0,\"ticks\":\"\"},\"colorscale\":[[0.0,\"#0d0887\"],[0.1111111111111111,\"#46039f\"],[0.2222222222222222,\"#7201a8\"],[0.3333333333333333,\"#9c179e\"],[0.4444444444444444,\"#bd3786\"],[0.5555555555555556,\"#d8576b\"],[0.6666666666666666,\"#ed7953\"],[0.7777777777777778,\"#fb9f3a\"],[0.8888888888888888,\"#fdca26\"],[1.0,\"#f0f921\"]]}],\"heatmapgl\":[{\"type\":\"heatmapgl\",\"colorbar\":{\"outlinewidth\":0,\"ticks\":\"\"},\"colorscale\":[[0.0,\"#0d0887\"],[0.1111111111111111,\"#46039f\"],[0.2222222222222222,\"#7201a8\"],[0.3333333333333333,\"#9c179e\"],[0.4444444444444444,\"#bd3786\"],[0.5555555555555556,\"#d8576b\"],[0.6666666666666666,\"#ed7953\"],[0.7777777777777778,\"#fb9f3a\"],[0.8888888888888888,\"#fdca26\"],[1.0,\"#f0f921\"]]}],\"contourcarpet\":[{\"type\":\"contourcarpet\",\"colorbar\":{\"outlinewidth\":0,\"ticks\":\"\"}}],\"contour\":[{\"type\":\"contour\",\"colorbar\":{\"outlinewidth\":0,\"ticks\":\"\"},\"colorscale\":[[0.0,\"#0d0887\"],[0.1111111111111111,\"#46039f\"],[0.2222222222222222,\"#7201a8\"],[0.3333333333333333,\"#9c179e\"],[0.4444444444444444,\"#bd3786\"],[0.5555555555555556,\"#d8576b\"],[0.6666666666666666,\"#ed7953\"],[0.7777777777777778,\"#fb9f3a\"],[0.8888888888888888,\"#fdca26\"],[1.0,\"#f0f921\"]]}],\"surface\":[{\"type\":\"surface\",\"colorbar\":{\"outlinewidth\":0,\"ticks\":\"\"},\"colorscale\":[[0.0,\"#0d0887\"],[0.1111111111111111,\"#46039f\"],[0.2222222222222222,\"#7201a8\"],[0.3333333333333333,\"#9c179e\"],[0.4444444444444444,\"#bd3786\"],[0.5555555555555556,\"#d8576b\"],[0.6666666666666666,\"#ed7953\"],[0.7777777777777778,\"#fb9f3a\"],[0.8888888888888888,\"#fdca26\"],[1.0,\"#f0f921\"]]}],\"mesh3d\":[{\"type\":\"mesh3d\",\"colorbar\":{\"outlinewidth\":0,\"ticks\":\"\"}}],\"scatter\":[{\"fillpattern\":{\"fillmode\":\"overlay\",\"size\":10,\"solidity\":0.2},\"type\":\"scatter\"}],\"parcoords\":[{\"type\":\"parcoords\",\"line\":{\"colorbar\":{\"outlinewidth\":0,\"ticks\":\"\"}}}],\"scatterpolargl\":[{\"type\":\"scatterpolargl\",\"marker\":{\"colorbar\":{\"outlinewidth\":0,\"ticks\":\"\"}}}],\"bar\":[{\"error_x\":{\"color\":\"#2a3f5f\"},\"error_y\":{\"color\":\"#2a3f5f\"},\"marker\":{\"line\":{\"color\":\"#E5ECF6\",\"width\":0.5},\"pattern\":{\"fillmode\":\"overlay\",\"size\":10,\"solidity\":0.2}},\"type\":\"bar\"}],\"scattergeo\":[{\"type\":\"scattergeo\",\"marker\":{\"colorbar\":{\"outlinewidth\":0,\"ticks\":\"\"}}}],\"scatterpolar\":[{\"type\":\"scatterpolar\",\"marker\":{\"colorbar\":{\"outlinewidth\":0,\"ticks\":\"\"}}}],\"histogram\":[{\"marker\":{\"pattern\":{\"fillmode\":\"overlay\",\"size\":10,\"solidity\":0.2}},\"type\":\"histogram\"}],\"scattergl\":[{\"type\":\"scattergl\",\"marker\":{\"colorbar\":{\"outlinewidth\":0,\"ticks\":\"\"}}}],\"scatter3d\":[{\"type\":\"scatter3d\",\"line\":{\"colorbar\":{\"outlinewidth\":0,\"ticks\":\"\"}},\"marker\":{\"colorbar\":{\"outlinewidth\":0,\"ticks\":\"\"}}}],\"scattermapbox\":[{\"type\":\"scattermapbox\",\"marker\":{\"colorbar\":{\"outlinewidth\":0,\"ticks\":\"\"}}}],\"scatterternary\":[{\"type\":\"scatterternary\",\"marker\":{\"colorbar\":{\"outlinewidth\":0,\"ticks\":\"\"}}}],\"scattercarpet\":[{\"type\":\"scattercarpet\",\"marker\":{\"colorbar\":{\"outlinewidth\":0,\"ticks\":\"\"}}}],\"carpet\":[{\"aaxis\":{\"endlinecolor\":\"#2a3f5f\",\"gridcolor\":\"white\",\"linecolor\":\"white\",\"minorgridcolor\":\"white\",\"startlinecolor\":\"#2a3f5f\"},\"baxis\":{\"endlinecolor\":\"#2a3f5f\",\"gridcolor\":\"white\",\"linecolor\":\"white\",\"minorgridcolor\":\"white\",\"startlinecolor\":\"#2a3f5f\"},\"type\":\"carpet\"}],\"table\":[{\"cells\":{\"fill\":{\"color\":\"#EBF0F8\"},\"line\":{\"color\":\"white\"}},\"header\":{\"fill\":{\"color\":\"#C8D4E3\"},\"line\":{\"color\":\"white\"}},\"type\":\"table\"}],\"barpolar\":[{\"marker\":{\"line\":{\"color\":\"#E5ECF6\",\"width\":0.5},\"pattern\":{\"fillmode\":\"overlay\",\"size\":10,\"solidity\":0.2}},\"type\":\"barpolar\"}],\"pie\":[{\"automargin\":true,\"type\":\"pie\"}]},\"layout\":{\"autotypenumbers\":\"strict\",\"colorway\":[\"#636efa\",\"#EF553B\",\"#00cc96\",\"#ab63fa\",\"#FFA15A\",\"#19d3f3\",\"#FF6692\",\"#B6E880\",\"#FF97FF\",\"#FECB52\"],\"font\":{\"color\":\"#2a3f5f\"},\"hovermode\":\"closest\",\"hoverlabel\":{\"align\":\"left\"},\"paper_bgcolor\":\"white\",\"plot_bgcolor\":\"#E5ECF6\",\"polar\":{\"bgcolor\":\"#E5ECF6\",\"angularaxis\":{\"gridcolor\":\"white\",\"linecolor\":\"white\",\"ticks\":\"\"},\"radialaxis\":{\"gridcolor\":\"white\",\"linecolor\":\"white\",\"ticks\":\"\"}},\"ternary\":{\"bgcolor\":\"#E5ECF6\",\"aaxis\":{\"gridcolor\":\"white\",\"linecolor\":\"white\",\"ticks\":\"\"},\"baxis\":{\"gridcolor\":\"white\",\"linecolor\":\"white\",\"ticks\":\"\"},\"caxis\":{\"gridcolor\":\"white\",\"linecolor\":\"white\",\"ticks\":\"\"}},\"coloraxis\":{\"colorbar\":{\"outlinewidth\":0,\"ticks\":\"\"}},\"colorscale\":{\"sequential\":[[0.0,\"#0d0887\"],[0.1111111111111111,\"#46039f\"],[0.2222222222222222,\"#7201a8\"],[0.3333333333333333,\"#9c179e\"],[0.4444444444444444,\"#bd3786\"],[0.5555555555555556,\"#d8576b\"],[0.6666666666666666,\"#ed7953\"],[0.7777777777777778,\"#fb9f3a\"],[0.8888888888888888,\"#fdca26\"],[1.0,\"#f0f921\"]],\"sequentialminus\":[[0.0,\"#0d0887\"],[0.1111111111111111,\"#46039f\"],[0.2222222222222222,\"#7201a8\"],[0.3333333333333333,\"#9c179e\"],[0.4444444444444444,\"#bd3786\"],[0.5555555555555556,\"#d8576b\"],[0.6666666666666666,\"#ed7953\"],[0.7777777777777778,\"#fb9f3a\"],[0.8888888888888888,\"#fdca26\"],[1.0,\"#f0f921\"]],\"diverging\":[[0,\"#8e0152\"],[0.1,\"#c51b7d\"],[0.2,\"#de77ae\"],[0.3,\"#f1b6da\"],[0.4,\"#fde0ef\"],[0.5,\"#f7f7f7\"],[0.6,\"#e6f5d0\"],[0.7,\"#b8e186\"],[0.8,\"#7fbc41\"],[0.9,\"#4d9221\"],[1,\"#276419\"]]},\"xaxis\":{\"gridcolor\":\"white\",\"linecolor\":\"white\",\"ticks\":\"\",\"title\":{\"standoff\":15},\"zerolinecolor\":\"white\",\"automargin\":true,\"zerolinewidth\":2},\"yaxis\":{\"gridcolor\":\"white\",\"linecolor\":\"white\",\"ticks\":\"\",\"title\":{\"standoff\":15},\"zerolinecolor\":\"white\",\"automargin\":true,\"zerolinewidth\":2},\"scene\":{\"xaxis\":{\"backgroundcolor\":\"#E5ECF6\",\"gridcolor\":\"white\",\"linecolor\":\"white\",\"showbackground\":true,\"ticks\":\"\",\"zerolinecolor\":\"white\",\"gridwidth\":2},\"yaxis\":{\"backgroundcolor\":\"#E5ECF6\",\"gridcolor\":\"white\",\"linecolor\":\"white\",\"showbackground\":true,\"ticks\":\"\",\"zerolinecolor\":\"white\",\"gridwidth\":2},\"zaxis\":{\"backgroundcolor\":\"#E5ECF6\",\"gridcolor\":\"white\",\"linecolor\":\"white\",\"showbackground\":true,\"ticks\":\"\",\"zerolinecolor\":\"white\",\"gridwidth\":2}},\"shapedefaults\":{\"line\":{\"color\":\"#2a3f5f\"}},\"annotationdefaults\":{\"arrowcolor\":\"#2a3f5f\",\"arrowhead\":0,\"arrowwidth\":1},\"geo\":{\"bgcolor\":\"white\",\"landcolor\":\"#E5ECF6\",\"subunitcolor\":\"white\",\"showland\":true,\"showlakes\":true,\"lakecolor\":\"white\"},\"title\":{\"x\":0.05},\"mapbox\":{\"style\":\"light\"}}},\"coloraxis\":{\"colorbar\":{\"title\":{\"text\":\"Sentiment Score\"}},\"colorscale\":[[0.0,\"#FF0000\"],[0.5,\"#000000\"],[1.0,\"#00FF00\"]],\"cmid\":0},\"legend\":{\"tracegroupgap\":0},\"margin\":{\"t\":30,\"l\":10,\"r\":10,\"b\":10},\"font\":{\"size\":20}},                        {\"responsive\": true}                    ).then(function(){\n",
       "                            \n",
       "var gd = document.getElementById('fc017a2a-8a68-4e94-998e-9b55712be424');\n",
       "var x = new MutationObserver(function (mutations, observer) {{\n",
       "        var display = window.getComputedStyle(gd).display;\n",
       "        if (!display || display === 'none') {{\n",
       "            console.log([gd, 'removed!']);\n",
       "            Plotly.purge(gd);\n",
       "            observer.disconnect();\n",
       "        }}\n",
       "}});\n",
       "\n",
       "// Listen for the removal of the full notebook cells\n",
       "var notebookContainer = gd.closest('#notebook-container');\n",
       "if (notebookContainer) {{\n",
       "    x.observe(notebookContainer, {childList: true});\n",
       "}}\n",
       "\n",
       "// Listen for the clearing of the current output cell\n",
       "var outputEl = gd.closest('.output');\n",
       "if (outputEl) {{\n",
       "    x.observe(outputEl, {childList: true});\n",
       "}}\n",
       "\n",
       "                        })                };                });            </script>        </div>"
      ]
     },
     "metadata": {},
     "output_type": "display_data"
    }
   ],
   "source": [
    "# group data into sectors at the highest level, breaks it down into industry, and then ticker, specified in the 'path' parameter\n",
    "# the 'values' parameter uses the value of the column to determine the relative size of each box in the chart\n",
    "# the color of the chart follows the sentiment score\n",
    "# when the mouse is hovered over each box in the chart, the negative, neutral, positive and overall sentiment scores will all be shown\n",
    "# the color is red (#ff0000) for negative sentiment scores, black (#000000) for 0 sentiment score and green (#00FF00) for positive sentiment scores\n",
    "fig = px.treemap(df, path=[px.Constant(\"Sectors\"), 'Sector', 'Industry', 'ticker'], values='Total Stock Value in Portfolio',\n",
    "                  color='Sentiment Score', hover_data=['Price', 'Negative', 'Neutral', 'Positive', 'Sentiment Score'],\n",
    "                  color_continuous_scale=['#FF0000', \"#000000\", '#00FF00'],\n",
    "                  color_continuous_midpoint=0)\n",
    "\n",
    "fig.data[0].customdata = df[['Price', 'Negative', 'Neutral', 'Positive', 'Sentiment Score']].round(3) # round to 3 decimal places\n",
    "fig.data[0].texttemplate = \"%{label}<br>%{customdata[4]}\"\n",
    "\n",
    "fig.update_traces(textposition=\"middle center\")\n",
    "fig.update_layout(margin = dict(t=30, l=10, r=10, b=10), font_size=20)\n",
    "\n",
    "plotly.offline.plot(fig, filename='stock_sentiment.html') # this writes the plot into a html file and opens it\n",
    "fig.show()"
   ]
  },
  {
   "cell_type": "code",
   "execution_count": null,
   "id": "80061856",
   "metadata": {},
   "outputs": [],
   "source": [
    "from yahooquery import Ticker\n",
    "\n",
    "# Define the stock symbol you want to get information for\n",
    "symbol = 'AAPL'\n",
    "\n",
    "# Create a Ticker object for the symbol\n",
    "tkr = Ticker(symbol)\n",
    "\n",
    "# Get the regular market price for the symbol\n",
    "regular_market_price = tkr.price[symbol]['regularMarketPrice']\n",
    "\n",
    "# Get the sector for the symbol\n",
    "sector = tkr.asset_profile[symbol]['sector']\n",
    "\n",
    "# Get the industry for the symbol\n",
    "industry = tkr.asset_profile[symbol]['industry']\n",
    "\n",
    "# Print the results\n",
    "print(f'Symbol: {symbol}')\n",
    "print(f'Regular Market Price: {regular_market_price}')\n",
    "print(f'Sector: {sector}')\n",
    "print(f'Industry: {industry}')\n"
   ]
  }
 ],
 "metadata": {
  "kernelspec": {
   "display_name": "Python 3",
   "language": "python",
   "name": "python3"
  },
  "language_info": {
   "codemirror_mode": {
    "name": "ipython",
    "version": 3
   },
   "file_extension": ".py",
   "mimetype": "text/x-python",
   "name": "python",
   "nbconvert_exporter": "python",
   "pygments_lexer": "ipython3",
   "version": "3.7.8"
  },
  "vscode": {
   "interpreter": {
    "hash": "85cab9e096cbab1951b2d3a14822210bb6543dde301eda19da12202a5ce4203b"
   }
  }
 },
 "nbformat": 4,
 "nbformat_minor": 5
}
